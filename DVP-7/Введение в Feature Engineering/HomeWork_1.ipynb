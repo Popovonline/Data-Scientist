{
 "cells": [
  {
   "cell_type": "code",
   "execution_count": 3,
   "metadata": {},
   "outputs": [],
   "source": [
    "import numpy as np\n",
    "import pandas as pd\n",
    "\n",
    "from sklearn.linear_model import LinearRegression"
   ]
  },
  {
   "cell_type": "markdown",
   "metadata": {},
   "source": [
    "### Создадим датасет с данными частной медицинской клиники. "
   ]
  },
  {
   "cell_type": "code",
   "execution_count": 4,
   "metadata": {},
   "outputs": [
    {
     "data": {
      "text/html": [
       "<div>\n",
       "<style scoped>\n",
       "    .dataframe tbody tr th:only-of-type {\n",
       "        vertical-align: middle;\n",
       "    }\n",
       "\n",
       "    .dataframe tbody tr th {\n",
       "        vertical-align: top;\n",
       "    }\n",
       "\n",
       "    .dataframe thead th {\n",
       "        text-align: right;\n",
       "    }\n",
       "</style>\n",
       "<table border=\"1\" class=\"dataframe\">\n",
       "  <thead>\n",
       "    <tr style=\"text-align: right;\">\n",
       "      <th></th>\n",
       "      <th>date</th>\n",
       "      <th>number_of_doctors</th>\n",
       "      <th>visits</th>\n",
       "      <th>number_of_patients</th>\n",
       "      <th>advertising</th>\n",
       "      <th>sales</th>\n",
       "    </tr>\n",
       "  </thead>\n",
       "  <tbody>\n",
       "    <tr>\n",
       "      <th>0</th>\n",
       "      <td>2020-05-16</td>\n",
       "      <td>101</td>\n",
       "      <td>237</td>\n",
       "      <td>592</td>\n",
       "      <td>61</td>\n",
       "      <td>26591.4</td>\n",
       "    </tr>\n",
       "    <tr>\n",
       "      <th>1</th>\n",
       "      <td>2020-05-17</td>\n",
       "      <td>39</td>\n",
       "      <td>247</td>\n",
       "      <td>578</td>\n",
       "      <td>84</td>\n",
       "      <td>28849.6</td>\n",
       "    </tr>\n",
       "    <tr>\n",
       "      <th>2</th>\n",
       "      <td>2020-05-18</td>\n",
       "      <td>3</td>\n",
       "      <td>83</td>\n",
       "      <td>596</td>\n",
       "      <td>193</td>\n",
       "      <td>11503.8</td>\n",
       "    </tr>\n",
       "    <tr>\n",
       "      <th>3</th>\n",
       "      <td>2020-05-19</td>\n",
       "      <td>75</td>\n",
       "      <td>92</td>\n",
       "      <td>551</td>\n",
       "      <td>73</td>\n",
       "      <td>10543.2</td>\n",
       "    </tr>\n",
       "    <tr>\n",
       "      <th>4</th>\n",
       "      <td>2020-05-20</td>\n",
       "      <td>9</td>\n",
       "      <td>207</td>\n",
       "      <td>604</td>\n",
       "      <td>137</td>\n",
       "      <td>26371.8</td>\n",
       "    </tr>\n",
       "  </tbody>\n",
       "</table>\n",
       "</div>"
      ],
      "text/plain": [
       "        date  number_of_doctors  visits  number_of_patients  advertising  \\\n",
       "0 2020-05-16                101     237                 592           61   \n",
       "1 2020-05-17                 39     247                 578           84   \n",
       "2 2020-05-18                  3      83                 596          193   \n",
       "3 2020-05-19                 75      92                 551           73   \n",
       "4 2020-05-20                  9     207                 604          137   \n",
       "\n",
       "     sales  \n",
       "0  26591.4  \n",
       "1  28849.6  \n",
       "2  11503.8  \n",
       "3  10543.2  \n",
       "4  26371.8  "
      ]
     },
     "execution_count": 4,
     "metadata": {},
     "output_type": "execute_result"
    }
   ],
   "source": [
    "# Создаём сэмпл\n",
    "n_samples = 500\n",
    "\n",
    "# Визиты к врачам (= количество принятых пациентов)\n",
    "visits = np.random.choice(250, n_samples) # случайная выборка из значений заданного одномерного массива\n",
    "\n",
    "# Дата отчета \n",
    "random_date = pd.date_range('5/16/2020', periods = n_samples, freq=\"D\") # зададим дни начиная с сегодняшнего дня\n",
    "# monthly_days = np.arange(1, n_samples)\n",
    "# base_date = np.datetime64('2020-01-06')\n",
    "# random_date = base_date + np.random.choice(monthly_days)\n",
    "\n",
    "# Количество докторов, работающих в клинике в конкретный день \n",
    "number_of_doctors = np.random.choice(150, n_samples)\n",
    "\n",
    "# Количество пациентов, которые обращались за медицинской помощью в городе (статистика по всем частным клиникам города)\n",
    "number_of_patients = np.random.choice(150, n_samples) + 500\n",
    "\n",
    "# Затраты на рекламу\n",
    "advertising = np.random.choice(200, n_samples)\n",
    "\n",
    "# Выручка в день\n",
    "k = 1 + (advertising / n_samples) # сделаем коэффициент увеличение выручки от рекламы\n",
    "sales = visits * k * 100\n",
    "\n",
    "# Cоздаем датафрейм \n",
    "data = pd.DataFrame({'date': random_date,'number_of_doctors': number_of_doctors, 'visits': visits, \n",
    "                     'number_of_patients': number_of_patients,\n",
    "                     'advertising': advertising, 'sales': sales})\n",
    "data.head()"
   ]
  },
  {
   "cell_type": "code",
   "execution_count": 5,
   "metadata": {},
   "outputs": [
    {
     "data": {
      "text/html": [
       "<div>\n",
       "<style scoped>\n",
       "    .dataframe tbody tr th:only-of-type {\n",
       "        vertical-align: middle;\n",
       "    }\n",
       "\n",
       "    .dataframe tbody tr th {\n",
       "        vertical-align: top;\n",
       "    }\n",
       "\n",
       "    .dataframe thead th {\n",
       "        text-align: right;\n",
       "    }\n",
       "</style>\n",
       "<table border=\"1\" class=\"dataframe\">\n",
       "  <thead>\n",
       "    <tr style=\"text-align: right;\">\n",
       "      <th></th>\n",
       "      <th>number_of_doctors</th>\n",
       "      <th>visits</th>\n",
       "      <th>number_of_patients</th>\n",
       "      <th>advertising</th>\n",
       "      <th>sales</th>\n",
       "    </tr>\n",
       "  </thead>\n",
       "  <tbody>\n",
       "    <tr>\n",
       "      <th>count</th>\n",
       "      <td>500.000000</td>\n",
       "      <td>500.000000</td>\n",
       "      <td>500.000000</td>\n",
       "      <td>500.000000</td>\n",
       "      <td>500.000000</td>\n",
       "    </tr>\n",
       "    <tr>\n",
       "      <th>mean</th>\n",
       "      <td>72.686000</td>\n",
       "      <td>122.166000</td>\n",
       "      <td>575.238000</td>\n",
       "      <td>101.476000</td>\n",
       "      <td>14721.686000</td>\n",
       "    </tr>\n",
       "    <tr>\n",
       "      <th>std</th>\n",
       "      <td>42.920388</td>\n",
       "      <td>72.273185</td>\n",
       "      <td>42.911585</td>\n",
       "      <td>58.349076</td>\n",
       "      <td>8947.374529</td>\n",
       "    </tr>\n",
       "    <tr>\n",
       "      <th>min</th>\n",
       "      <td>0.000000</td>\n",
       "      <td>0.000000</td>\n",
       "      <td>500.000000</td>\n",
       "      <td>0.000000</td>\n",
       "      <td>0.000000</td>\n",
       "    </tr>\n",
       "    <tr>\n",
       "      <th>25%</th>\n",
       "      <td>36.750000</td>\n",
       "      <td>60.000000</td>\n",
       "      <td>539.000000</td>\n",
       "      <td>48.750000</td>\n",
       "      <td>7374.450000</td>\n",
       "    </tr>\n",
       "    <tr>\n",
       "      <th>50%</th>\n",
       "      <td>73.000000</td>\n",
       "      <td>128.000000</td>\n",
       "      <td>573.000000</td>\n",
       "      <td>104.000000</td>\n",
       "      <td>14693.800000</td>\n",
       "    </tr>\n",
       "    <tr>\n",
       "      <th>75%</th>\n",
       "      <td>109.000000</td>\n",
       "      <td>181.000000</td>\n",
       "      <td>612.250000</td>\n",
       "      <td>154.000000</td>\n",
       "      <td>21714.100000</td>\n",
       "    </tr>\n",
       "    <tr>\n",
       "      <th>max</th>\n",
       "      <td>149.000000</td>\n",
       "      <td>249.000000</td>\n",
       "      <td>649.000000</td>\n",
       "      <td>199.000000</td>\n",
       "      <td>33976.000000</td>\n",
       "    </tr>\n",
       "  </tbody>\n",
       "</table>\n",
       "</div>"
      ],
      "text/plain": [
       "       number_of_doctors      visits  number_of_patients  advertising  \\\n",
       "count         500.000000  500.000000          500.000000   500.000000   \n",
       "mean           72.686000  122.166000          575.238000   101.476000   \n",
       "std            42.920388   72.273185           42.911585    58.349076   \n",
       "min             0.000000    0.000000          500.000000     0.000000   \n",
       "25%            36.750000   60.000000          539.000000    48.750000   \n",
       "50%            73.000000  128.000000          573.000000   104.000000   \n",
       "75%           109.000000  181.000000          612.250000   154.000000   \n",
       "max           149.000000  249.000000          649.000000   199.000000   \n",
       "\n",
       "              sales  \n",
       "count    500.000000  \n",
       "mean   14721.686000  \n",
       "std     8947.374529  \n",
       "min        0.000000  \n",
       "25%     7374.450000  \n",
       "50%    14693.800000  \n",
       "75%    21714.100000  \n",
       "max    33976.000000  "
      ]
     },
     "execution_count": 5,
     "metadata": {},
     "output_type": "execute_result"
    }
   ],
   "source": [
    "data.describe()"
   ]
  },
  {
   "cell_type": "code",
   "execution_count": 6,
   "metadata": {},
   "outputs": [
    {
     "data": {
      "text/html": [
       "<div>\n",
       "<style scoped>\n",
       "    .dataframe tbody tr th:only-of-type {\n",
       "        vertical-align: middle;\n",
       "    }\n",
       "\n",
       "    .dataframe tbody tr th {\n",
       "        vertical-align: top;\n",
       "    }\n",
       "\n",
       "    .dataframe thead th {\n",
       "        text-align: right;\n",
       "    }\n",
       "</style>\n",
       "<table border=\"1\" class=\"dataframe\">\n",
       "  <thead>\n",
       "    <tr style=\"text-align: right;\">\n",
       "      <th></th>\n",
       "      <th>number_of_doctors</th>\n",
       "      <th>visits</th>\n",
       "      <th>number_of_patients</th>\n",
       "      <th>advertising</th>\n",
       "      <th>sales</th>\n",
       "    </tr>\n",
       "  </thead>\n",
       "  <tbody>\n",
       "    <tr>\n",
       "      <th>0</th>\n",
       "      <td>101</td>\n",
       "      <td>237</td>\n",
       "      <td>592</td>\n",
       "      <td>61</td>\n",
       "      <td>26591.4</td>\n",
       "    </tr>\n",
       "    <tr>\n",
       "      <th>1</th>\n",
       "      <td>39</td>\n",
       "      <td>247</td>\n",
       "      <td>578</td>\n",
       "      <td>84</td>\n",
       "      <td>28849.6</td>\n",
       "    </tr>\n",
       "    <tr>\n",
       "      <th>2</th>\n",
       "      <td>3</td>\n",
       "      <td>83</td>\n",
       "      <td>596</td>\n",
       "      <td>193</td>\n",
       "      <td>11503.8</td>\n",
       "    </tr>\n",
       "    <tr>\n",
       "      <th>3</th>\n",
       "      <td>75</td>\n",
       "      <td>92</td>\n",
       "      <td>551</td>\n",
       "      <td>73</td>\n",
       "      <td>10543.2</td>\n",
       "    </tr>\n",
       "    <tr>\n",
       "      <th>4</th>\n",
       "      <td>9</td>\n",
       "      <td>207</td>\n",
       "      <td>604</td>\n",
       "      <td>137</td>\n",
       "      <td>26371.8</td>\n",
       "    </tr>\n",
       "  </tbody>\n",
       "</table>\n",
       "</div>"
      ],
      "text/plain": [
       "   number_of_doctors  visits  number_of_patients  advertising    sales\n",
       "0                101     237                 592           61  26591.4\n",
       "1                 39     247                 578           84  28849.6\n",
       "2                  3      83                 596          193  11503.8\n",
       "3                 75      92                 551           73  10543.2\n",
       "4                  9     207                 604          137  26371.8"
      ]
     },
     "execution_count": 6,
     "metadata": {},
     "output_type": "execute_result"
    }
   ],
   "source": [
    "data.drop('date', axis = 1, inplace = True) # убираем колонку date для анализа данных\n",
    "data.head()"
   ]
  },
  {
   "cell_type": "code",
   "execution_count": 8,
   "metadata": {},
   "outputs": [
    {
     "name": "stdout",
     "output_type": "stream",
     "text": [
      "Weights: [ -0.29083764 121.19439212   0.25392253  23.54674717]\n",
      "Bias: -2598.503885677508\n",
      "Error: 631.6216844133013\n"
     ]
    }
   ],
   "source": [
    "from sklearn.metrics import mean_absolute_error\n",
    "\n",
    "X = data[['number_of_doctors', 'visits', 'number_of_patients', 'advertising']]\n",
    "y = data['sales']\n",
    "reg = LinearRegression().fit(X, y)\n",
    "print('Weights: {}'.format(reg.coef_))\n",
    "print('Bias: {}'.format(reg.intercept_))\n",
    "\n",
    "pred_values = reg.predict(data[['number_of_doctors', 'visits', 'number_of_patients', 'advertising']])\n",
    "print('Error: {}'.format(mean_absolute_error(pred_values, y)))\n",
    "# print('Error, % : {}'.format(mean_absolute_error(pred_values, y) * 100 / data.sales.mean()))\n",
    "# Несмотря на то, что мы получили небольшую среднюю относительную ошибку чуть больше 4%, попробуем улучшить результат "
   ]
  },
  {
   "cell_type": "code",
   "execution_count": 9,
   "metadata": {},
   "outputs": [
    {
     "data": {
      "text/html": [
       "<div>\n",
       "<style scoped>\n",
       "    .dataframe tbody tr th:only-of-type {\n",
       "        vertical-align: middle;\n",
       "    }\n",
       "\n",
       "    .dataframe tbody tr th {\n",
       "        vertical-align: top;\n",
       "    }\n",
       "\n",
       "    .dataframe thead th {\n",
       "        text-align: right;\n",
       "    }\n",
       "</style>\n",
       "<table border=\"1\" class=\"dataframe\">\n",
       "  <thead>\n",
       "    <tr style=\"text-align: right;\">\n",
       "      <th></th>\n",
       "      <th>number_of_doctors</th>\n",
       "      <th>visits</th>\n",
       "      <th>advertising</th>\n",
       "      <th>sales</th>\n",
       "    </tr>\n",
       "  </thead>\n",
       "  <tbody>\n",
       "    <tr>\n",
       "      <th>0</th>\n",
       "      <td>101</td>\n",
       "      <td>237</td>\n",
       "      <td>61</td>\n",
       "      <td>26591.4</td>\n",
       "    </tr>\n",
       "    <tr>\n",
       "      <th>1</th>\n",
       "      <td>39</td>\n",
       "      <td>247</td>\n",
       "      <td>84</td>\n",
       "      <td>28849.6</td>\n",
       "    </tr>\n",
       "    <tr>\n",
       "      <th>2</th>\n",
       "      <td>3</td>\n",
       "      <td>83</td>\n",
       "      <td>193</td>\n",
       "      <td>11503.8</td>\n",
       "    </tr>\n",
       "    <tr>\n",
       "      <th>3</th>\n",
       "      <td>75</td>\n",
       "      <td>92</td>\n",
       "      <td>73</td>\n",
       "      <td>10543.2</td>\n",
       "    </tr>\n",
       "    <tr>\n",
       "      <th>4</th>\n",
       "      <td>9</td>\n",
       "      <td>207</td>\n",
       "      <td>137</td>\n",
       "      <td>26371.8</td>\n",
       "    </tr>\n",
       "  </tbody>\n",
       "</table>\n",
       "</div>"
      ],
      "text/plain": [
       "   number_of_doctors  visits  advertising    sales\n",
       "0                101     237           61  26591.4\n",
       "1                 39     247           84  28849.6\n",
       "2                  3      83          193  11503.8\n",
       "3                 75      92           73  10543.2\n",
       "4                  9     207          137  26371.8"
      ]
     },
     "execution_count": 9,
     "metadata": {},
     "output_type": "execute_result"
    }
   ],
   "source": [
    "# убираем количество пациентов в городе, эти данные абсолютно не влияют на экономические показатели нашей клиники\n",
    "data.drop('number_of_patients', axis = 1, inplace = True) \n",
    "data.head()"
   ]
  },
  {
   "cell_type": "code",
   "execution_count": 10,
   "metadata": {},
   "outputs": [
    {
     "name": "stdout",
     "output_type": "stream",
     "text": [
      "Weights: [ -0.2963252  121.18839999  23.54483912]\n",
      "Bias: -2451.113474970998\n",
      "Error: 631.1494433808375\n"
     ]
    }
   ],
   "source": [
    "# несмотря на это показатель средней относительной ошибки  - совсем не изменился\n",
    "X = data[['number_of_doctors', 'visits', 'advertising']]\n",
    "y = data['sales']\n",
    "reg = LinearRegression().fit(X, y)\n",
    "print('Weights: {}'.format(reg.coef_))\n",
    "print('Bias: {}'.format(reg.intercept_))\n",
    "\n",
    "pred_values = reg.predict(data[['number_of_doctors', 'visits', 'advertising']])\n",
    "print('Error: {}'.format(mean_absolute_error(pred_values, y)))  "
   ]
  },
  {
   "cell_type": "code",
   "execution_count": 11,
   "metadata": {},
   "outputs": [
    {
     "data": {
      "text/html": [
       "<div>\n",
       "<style scoped>\n",
       "    .dataframe tbody tr th:only-of-type {\n",
       "        vertical-align: middle;\n",
       "    }\n",
       "\n",
       "    .dataframe tbody tr th {\n",
       "        vertical-align: top;\n",
       "    }\n",
       "\n",
       "    .dataframe thead th {\n",
       "        text-align: right;\n",
       "    }\n",
       "</style>\n",
       "<table border=\"1\" class=\"dataframe\">\n",
       "  <thead>\n",
       "    <tr style=\"text-align: right;\">\n",
       "      <th></th>\n",
       "      <th>0</th>\n",
       "      <th>1</th>\n",
       "      <th>2</th>\n",
       "      <th>3</th>\n",
       "    </tr>\n",
       "  </thead>\n",
       "  <tbody>\n",
       "    <tr>\n",
       "      <th>0</th>\n",
       "      <td>0.677852</td>\n",
       "      <td>0.951807</td>\n",
       "      <td>0.306533</td>\n",
       "      <td>0.782652</td>\n",
       "    </tr>\n",
       "    <tr>\n",
       "      <th>1</th>\n",
       "      <td>0.261745</td>\n",
       "      <td>0.991968</td>\n",
       "      <td>0.422111</td>\n",
       "      <td>0.849117</td>\n",
       "    </tr>\n",
       "    <tr>\n",
       "      <th>2</th>\n",
       "      <td>0.020134</td>\n",
       "      <td>0.333333</td>\n",
       "      <td>0.969849</td>\n",
       "      <td>0.338586</td>\n",
       "    </tr>\n",
       "    <tr>\n",
       "      <th>3</th>\n",
       "      <td>0.503356</td>\n",
       "      <td>0.369478</td>\n",
       "      <td>0.366834</td>\n",
       "      <td>0.310313</td>\n",
       "    </tr>\n",
       "    <tr>\n",
       "      <th>4</th>\n",
       "      <td>0.060403</td>\n",
       "      <td>0.831325</td>\n",
       "      <td>0.688442</td>\n",
       "      <td>0.776189</td>\n",
       "    </tr>\n",
       "  </tbody>\n",
       "</table>\n",
       "</div>"
      ],
      "text/plain": [
       "          0         1         2         3\n",
       "0  0.677852  0.951807  0.306533  0.782652\n",
       "1  0.261745  0.991968  0.422111  0.849117\n",
       "2  0.020134  0.333333  0.969849  0.338586\n",
       "3  0.503356  0.369478  0.366834  0.310313\n",
       "4  0.060403  0.831325  0.688442  0.776189"
      ]
     },
     "execution_count": 11,
     "metadata": {},
     "output_type": "execute_result"
    }
   ],
   "source": [
    "# пробуем то же самое, но на нормализованных данных\n",
    "\n",
    "from sklearn import preprocessing\n",
    "min_max_scaler = preprocessing.MinMaxScaler(feature_range=(0,1))\n",
    "np_scaled = min_max_scaler.fit_transform(data)\n",
    "data_norm = pd.DataFrame(np_scaled)\n",
    "data_norm.head()"
   ]
  },
  {
   "cell_type": "code",
   "execution_count": 12,
   "metadata": {},
   "outputs": [
    {
     "name": "stdout",
     "output_type": "stream",
     "text": [
      "Weights: [[-0.00129952  0.88815374  0.1379039 ]]\n",
      "Bias: [-0.0721425]\n",
      "Error: 0.018576331627644143\n"
     ]
    }
   ],
   "source": [
    "# нормализация данных не дала никакого эффекта, если перевести Error в проценты в обоих вариантах, это можно увидеть\n",
    "X = data_norm.iloc[:,:3]\n",
    "y = data_norm.iloc[:,3:]\n",
    "reg = LinearRegression().fit(X, y)\n",
    "print('Weights: {}'.format(reg.coef_))\n",
    "print('Bias: {}'.format(reg.intercept_))\n",
    "\n",
    "pred_values = reg.predict(X)\n",
    "print('Error: {}'.format(mean_absolute_error(pred_values, y)))"
   ]
  },
  {
   "cell_type": "markdown",
   "metadata": {},
   "source": [
    "### Добавим новый показатель затраты медицинской клиники, логично предположить чем больше компания инвестирует в медицинское оборудование и в персонал, тем выше продажи, так как все хотят идти к грамотному специалисту и лечиться по самым передовым стандартам"
   ]
  },
  {
   "cell_type": "code",
   "execution_count": 13,
   "metadata": {},
   "outputs": [
    {
     "data": {
      "text/html": [
       "<div>\n",
       "<style scoped>\n",
       "    .dataframe tbody tr th:only-of-type {\n",
       "        vertical-align: middle;\n",
       "    }\n",
       "\n",
       "    .dataframe tbody tr th {\n",
       "        vertical-align: top;\n",
       "    }\n",
       "\n",
       "    .dataframe thead th {\n",
       "        text-align: right;\n",
       "    }\n",
       "</style>\n",
       "<table border=\"1\" class=\"dataframe\">\n",
       "  <thead>\n",
       "    <tr style=\"text-align: right;\">\n",
       "      <th></th>\n",
       "      <th>number_of_doctors</th>\n",
       "      <th>visits</th>\n",
       "      <th>advertising</th>\n",
       "      <th>sales</th>\n",
       "      <th>costs</th>\n",
       "    </tr>\n",
       "  </thead>\n",
       "  <tbody>\n",
       "    <tr>\n",
       "      <th>0</th>\n",
       "      <td>101</td>\n",
       "      <td>237</td>\n",
       "      <td>61</td>\n",
       "      <td>26591.4</td>\n",
       "      <td>14457</td>\n",
       "    </tr>\n",
       "    <tr>\n",
       "      <th>1</th>\n",
       "      <td>39</td>\n",
       "      <td>247</td>\n",
       "      <td>84</td>\n",
       "      <td>28849.6</td>\n",
       "      <td>20748</td>\n",
       "    </tr>\n",
       "    <tr>\n",
       "      <th>2</th>\n",
       "      <td>3</td>\n",
       "      <td>83</td>\n",
       "      <td>193</td>\n",
       "      <td>11503.8</td>\n",
       "      <td>16019</td>\n",
       "    </tr>\n",
       "    <tr>\n",
       "      <th>3</th>\n",
       "      <td>75</td>\n",
       "      <td>92</td>\n",
       "      <td>73</td>\n",
       "      <td>10543.2</td>\n",
       "      <td>6716</td>\n",
       "    </tr>\n",
       "    <tr>\n",
       "      <th>4</th>\n",
       "      <td>9</td>\n",
       "      <td>207</td>\n",
       "      <td>137</td>\n",
       "      <td>26371.8</td>\n",
       "      <td>28359</td>\n",
       "    </tr>\n",
       "  </tbody>\n",
       "</table>\n",
       "</div>"
      ],
      "text/plain": [
       "   number_of_doctors  visits  advertising    sales  costs\n",
       "0                101     237           61  26591.4  14457\n",
       "1                 39     247           84  28849.6  20748\n",
       "2                  3      83          193  11503.8  16019\n",
       "3                 75      92           73  10543.2   6716\n",
       "4                  9     207          137  26371.8  28359"
      ]
     },
     "execution_count": 13,
     "metadata": {},
     "output_type": "execute_result"
    }
   ],
   "source": [
    "# для расчета сделаем следующее предположение\n",
    "data['costs'] = data['visits'] * data['advertising']\n",
    "data.head()"
   ]
  },
  {
   "cell_type": "code",
   "execution_count": 14,
   "metadata": {},
   "outputs": [
    {
     "name": "stdout",
     "output_type": "stream",
     "text": [
      "Weights: [1.48367265e-14 1.00000000e+02 2.90584877e-13 2.00000000e-01]\n",
      "Bias: 4.420144250616431e-10\n",
      "Error: 3.3723699869773926e-10\n"
     ]
    }
   ],
   "source": [
    "X = data[['number_of_doctors', 'visits', 'advertising', 'costs']]\n",
    "y = data['sales']\n",
    "reg = LinearRegression().fit(X, y)\n",
    "print('Weights: {}'.format(reg.coef_))\n",
    "print('Bias: {}'.format(reg.intercept_))\n",
    "\n",
    "pred_values = reg.predict(data[['number_of_doctors', 'visits', 'advertising', 'costs']])\n",
    "print('Error: {}'.format(mean_absolute_error(pred_values, y)))\n",
    "\n",
    "# WIN -)) средняя относительная ошибка почти равно нулю"
   ]
  },
  {
   "cell_type": "code",
   "execution_count": 15,
   "metadata": {},
   "outputs": [
    {
     "name": "stdout",
     "output_type": "stream",
     "text": [
      "Weights: [0.64926703]\n",
      "Bias: 6589.337267814053\n",
      "Error, %: 29.065994639218573\n"
     ]
    }
   ],
   "source": [
    "# Поэксперементируем \n",
    "X = data[['costs']]\n",
    "y = data['sales']\n",
    "reg = LinearRegression().fit(X, y)\n",
    "print('Weights: {}'.format(reg.coef_))\n",
    "print('Bias: {}'.format(reg.intercept_))\n",
    "\n",
    "pred_values = reg.predict(data[['costs']])\n",
    "print('Error, %: {}'.format(mean_absolute_error(pred_values, y) * 100 / data.sales.mean()))\n",
    "\n",
    "# очень большая средняя относительная ошибка"
   ]
  },
  {
   "cell_type": "code",
   "execution_count": 16,
   "metadata": {},
   "outputs": [
    {
     "data": {
      "image/png": "[encoded data removed]",
      "text/plain": [
       "<Figure size 432x288 with 1 Axes>"
      ]
     },
     "metadata": {
      "needs_background": "light"
     },
     "output_type": "display_data"
    }
   ],
   "source": [
    "# построим визуализацию того, что казалось бы, должно работать\n",
    "import seaborn as sns\n",
    "import matplotlib.pyplot as plt\n",
    "sns.regplot(x = data['costs'], y = data['sales'], data=data, fit_reg=True)\n",
    "plt.show()\n",
    "# видим выбросы и их безумно много"
   ]
  },
  {
   "cell_type": "code",
   "execution_count": 17,
   "metadata": {},
   "outputs": [
    {
     "name": "stdout",
     "output_type": "stream",
     "text": [
      "Weights: [121.78287878]\n",
      "Bias: -156.0411688064196\n",
      "Error, %: 8.200179155090538\n"
     ]
    }
   ],
   "source": [
    "# Попробуем с другим параметром\n",
    "X = data[['visits']]\n",
    "y = data['sales']\n",
    "reg = LinearRegression().fit(X, y)\n",
    "print('Weights: {}'.format(reg.coef_))\n",
    "print('Bias: {}'.format(reg.intercept_))\n",
    "\n",
    "pred_values = reg.predict(data[['visits']])\n",
    "print('Error, %: {}'.format(mean_absolute_error(pred_values, y) * 100 / data.sales.mean()))\n",
    "\n",
    "# значительно меньше, чем в первом варианте, но с точки зрения практики, возможно это допустимая ошибка в данном значении"
   ]
  },
  {
   "cell_type": "code",
   "execution_count": 80,
   "metadata": {},
   "outputs": [
    {
     "data": {
      "image/png": "[encoded data removed]",
      "text/plain": [
       "<Figure size 432x288 with 1 Axes>"
      ]
     },
     "metadata": {
      "needs_background": "light"
     },
     "output_type": "display_data"
    }
   ],
   "source": [
    "# построим визуализацию\n",
    "import seaborn as sns\n",
    "import matplotlib.pyplot as plt\n",
    "sns.regplot(x = data['visits'], y = data['sales'], data=data, fit_reg=True)\n",
    "plt.show()"
   ]
  }
 ],
 "metadata": {
  "kernelspec": {
   "display_name": "Python 3",
   "language": "python",
   "name": "python3"
  },
  "language_info": {
   "codemirror_mode": {
    "name": "ipython",
    "version": 3
   },
   "file_extension": ".py",
   "mimetype": "text/x-python",
   "name": "python",
   "nbconvert_exporter": "python",
   "pygments_lexer": "ipython3",
   "version": "3.7.6"
  }
 },
 "nbformat": 4,
 "nbformat_minor": 4
}
