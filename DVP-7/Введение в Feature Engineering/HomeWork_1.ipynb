{
 "cells": [
  {
   "cell_type": "code",
   "execution_count": 66,
   "metadata": {},
   "outputs": [],
   "source": [
    "import numpy as np\n",
    "import pandas as pd\n",
    "\n",
    "from sklearn.linear_model import LinearRegression"
   ]
  },
  {
   "cell_type": "markdown",
   "metadata": {},
   "source": [
    "### Создадим датасет с данными частной медицинской клиники. "
   ]
  },
  {
   "cell_type": "code",
   "execution_count": 67,
   "metadata": {},
   "outputs": [
    {
     "data": {
      "text/html": [
       "<div>\n",
       "<style scoped>\n",
       "    .dataframe tbody tr th:only-of-type {\n",
       "        vertical-align: middle;\n",
       "    }\n",
       "\n",
       "    .dataframe tbody tr th {\n",
       "        vertical-align: top;\n",
       "    }\n",
       "\n",
       "    .dataframe thead th {\n",
       "        text-align: right;\n",
       "    }\n",
       "</style>\n",
       "<table border=\"1\" class=\"dataframe\">\n",
       "  <thead>\n",
       "    <tr style=\"text-align: right;\">\n",
       "      <th></th>\n",
       "      <th>date</th>\n",
       "      <th>number_of_doctors</th>\n",
       "      <th>visits</th>\n",
       "      <th>number_of_patients</th>\n",
       "      <th>advertising</th>\n",
       "      <th>sales</th>\n",
       "    </tr>\n",
       "  </thead>\n",
       "  <tbody>\n",
       "    <tr>\n",
       "      <th>0</th>\n",
       "      <td>2020-05-16</td>\n",
       "      <td>8</td>\n",
       "      <td>232</td>\n",
       "      <td>576</td>\n",
       "      <td>120</td>\n",
       "      <td>28768.0</td>\n",
       "    </tr>\n",
       "    <tr>\n",
       "      <th>1</th>\n",
       "      <td>2020-05-17</td>\n",
       "      <td>77</td>\n",
       "      <td>151</td>\n",
       "      <td>608</td>\n",
       "      <td>143</td>\n",
       "      <td>19418.6</td>\n",
       "    </tr>\n",
       "    <tr>\n",
       "      <th>2</th>\n",
       "      <td>2020-05-18</td>\n",
       "      <td>97</td>\n",
       "      <td>132</td>\n",
       "      <td>544</td>\n",
       "      <td>58</td>\n",
       "      <td>14731.2</td>\n",
       "    </tr>\n",
       "    <tr>\n",
       "      <th>3</th>\n",
       "      <td>2020-05-19</td>\n",
       "      <td>37</td>\n",
       "      <td>183</td>\n",
       "      <td>625</td>\n",
       "      <td>140</td>\n",
       "      <td>23424.0</td>\n",
       "    </tr>\n",
       "    <tr>\n",
       "      <th>4</th>\n",
       "      <td>2020-05-20</td>\n",
       "      <td>128</td>\n",
       "      <td>18</td>\n",
       "      <td>634</td>\n",
       "      <td>133</td>\n",
       "      <td>2278.8</td>\n",
       "    </tr>\n",
       "  </tbody>\n",
       "</table>\n",
       "</div>"
      ],
      "text/plain": [
       "        date  number_of_doctors  visits  number_of_patients  advertising  \\\n",
       "0 2020-05-16                  8     232                 576          120   \n",
       "1 2020-05-17                 77     151                 608          143   \n",
       "2 2020-05-18                 97     132                 544           58   \n",
       "3 2020-05-19                 37     183                 625          140   \n",
       "4 2020-05-20                128      18                 634          133   \n",
       "\n",
       "     sales  \n",
       "0  28768.0  \n",
       "1  19418.6  \n",
       "2  14731.2  \n",
       "3  23424.0  \n",
       "4   2278.8  "
      ]
     },
     "execution_count": 67,
     "metadata": {},
     "output_type": "execute_result"
    }
   ],
   "source": [
    "# Создаём сэмпл\n",
    "n_samples = 500\n",
    "\n",
    "# Визиты к врачам (= количество принятых пациентов)\n",
    "visits = np.random.choice(250, n_samples) # случайная выборка из значений заданного одномерного массива\n",
    "\n",
    "# Дата отчета \n",
    "random_date = pd.date_range('5/16/2020', periods = n_samples, freq=\"D\") # зададим дни начиная с сегодняшнего дня\n",
    "# monthly_days = np.arange(1, n_samples)\n",
    "# base_date = np.datetime64('2020-01-06')\n",
    "# random_date = base_date + np.random.choice(monthly_days)\n",
    "\n",
    "# Количество докторов, работающих в клинике в конкретный день \n",
    "number_of_doctors = np.random.choice(150, n_samples)\n",
    "\n",
    "# Количество пациентов, которые обращались за медицинской помощью в городе (статистика по всем частным клиникам города)\n",
    "number_of_patients = np.random.choice(150, n_samples) + 500\n",
    "\n",
    "# Затраты на рекламу\n",
    "advertising = np.random.choice(200, n_samples)\n",
    "\n",
    "# Выручка в день\n",
    "k = 1 + (advertising / n_samples) # сделаем коэффициент увеличение выручки от рекламы\n",
    "sales = visits * k * 100\n",
    "\n",
    "# Cоздаем датафрейм \n",
    "data = pd.DataFrame({'date': random_date,'number_of_doctors': number_of_doctors, 'visits': visits, \n",
    "                     'number_of_patients': number_of_patients,\n",
    "                     'advertising': advertising, 'sales': sales})\n",
    "data.head()"
   ]
  },
  {
   "cell_type": "code",
   "execution_count": 68,
   "metadata": {},
   "outputs": [
    {
     "data": {
      "text/html": [
       "<div>\n",
       "<style scoped>\n",
       "    .dataframe tbody tr th:only-of-type {\n",
       "        vertical-align: middle;\n",
       "    }\n",
       "\n",
       "    .dataframe tbody tr th {\n",
       "        vertical-align: top;\n",
       "    }\n",
       "\n",
       "    .dataframe thead th {\n",
       "        text-align: right;\n",
       "    }\n",
       "</style>\n",
       "<table border=\"1\" class=\"dataframe\">\n",
       "  <thead>\n",
       "    <tr style=\"text-align: right;\">\n",
       "      <th></th>\n",
       "      <th>number_of_doctors</th>\n",
       "      <th>visits</th>\n",
       "      <th>number_of_patients</th>\n",
       "      <th>advertising</th>\n",
       "      <th>sales</th>\n",
       "    </tr>\n",
       "  </thead>\n",
       "  <tbody>\n",
       "    <tr>\n",
       "      <th>count</th>\n",
       "      <td>500.000000</td>\n",
       "      <td>500.000000</td>\n",
       "      <td>500.00000</td>\n",
       "      <td>500.000000</td>\n",
       "      <td>500.000000</td>\n",
       "    </tr>\n",
       "    <tr>\n",
       "      <th>mean</th>\n",
       "      <td>73.938000</td>\n",
       "      <td>125.732000</td>\n",
       "      <td>572.15400</td>\n",
       "      <td>101.108000</td>\n",
       "      <td>15143.744400</td>\n",
       "    </tr>\n",
       "    <tr>\n",
       "      <th>std</th>\n",
       "      <td>43.734467</td>\n",
       "      <td>73.489629</td>\n",
       "      <td>42.35415</td>\n",
       "      <td>58.773813</td>\n",
       "      <td>9037.192136</td>\n",
       "    </tr>\n",
       "    <tr>\n",
       "      <th>min</th>\n",
       "      <td>0.000000</td>\n",
       "      <td>1.000000</td>\n",
       "      <td>500.00000</td>\n",
       "      <td>0.000000</td>\n",
       "      <td>105.600000</td>\n",
       "    </tr>\n",
       "    <tr>\n",
       "      <th>25%</th>\n",
       "      <td>35.000000</td>\n",
       "      <td>60.000000</td>\n",
       "      <td>535.00000</td>\n",
       "      <td>49.500000</td>\n",
       "      <td>7013.000000</td>\n",
       "    </tr>\n",
       "    <tr>\n",
       "      <th>50%</th>\n",
       "      <td>77.000000</td>\n",
       "      <td>121.500000</td>\n",
       "      <td>573.50000</td>\n",
       "      <td>103.000000</td>\n",
       "      <td>14994.400000</td>\n",
       "    </tr>\n",
       "    <tr>\n",
       "      <th>75%</th>\n",
       "      <td>109.000000</td>\n",
       "      <td>191.250000</td>\n",
       "      <td>609.25000</td>\n",
       "      <td>151.000000</td>\n",
       "      <td>22600.350000</td>\n",
       "    </tr>\n",
       "    <tr>\n",
       "      <th>max</th>\n",
       "      <td>149.000000</td>\n",
       "      <td>249.000000</td>\n",
       "      <td>649.00000</td>\n",
       "      <td>199.000000</td>\n",
       "      <td>33761.000000</td>\n",
       "    </tr>\n",
       "  </tbody>\n",
       "</table>\n",
       "</div>"
      ],
      "text/plain": [
       "       number_of_doctors      visits  number_of_patients  advertising  \\\n",
       "count         500.000000  500.000000           500.00000   500.000000   \n",
       "mean           73.938000  125.732000           572.15400   101.108000   \n",
       "std            43.734467   73.489629            42.35415    58.773813   \n",
       "min             0.000000    1.000000           500.00000     0.000000   \n",
       "25%            35.000000   60.000000           535.00000    49.500000   \n",
       "50%            77.000000  121.500000           573.50000   103.000000   \n",
       "75%           109.000000  191.250000           609.25000   151.000000   \n",
       "max           149.000000  249.000000           649.00000   199.000000   \n",
       "\n",
       "              sales  \n",
       "count    500.000000  \n",
       "mean   15143.744400  \n",
       "std     9037.192136  \n",
       "min      105.600000  \n",
       "25%     7013.000000  \n",
       "50%    14994.400000  \n",
       "75%    22600.350000  \n",
       "max    33761.000000  "
      ]
     },
     "execution_count": 68,
     "metadata": {},
     "output_type": "execute_result"
    }
   ],
   "source": [
    "data.describe()"
   ]
  },
  {
   "cell_type": "code",
   "execution_count": 69,
   "metadata": {},
   "outputs": [
    {
     "data": {
      "text/html": [
       "<div>\n",
       "<style scoped>\n",
       "    .dataframe tbody tr th:only-of-type {\n",
       "        vertical-align: middle;\n",
       "    }\n",
       "\n",
       "    .dataframe tbody tr th {\n",
       "        vertical-align: top;\n",
       "    }\n",
       "\n",
       "    .dataframe thead th {\n",
       "        text-align: right;\n",
       "    }\n",
       "</style>\n",
       "<table border=\"1\" class=\"dataframe\">\n",
       "  <thead>\n",
       "    <tr style=\"text-align: right;\">\n",
       "      <th></th>\n",
       "      <th>number_of_doctors</th>\n",
       "      <th>visits</th>\n",
       "      <th>number_of_patients</th>\n",
       "      <th>advertising</th>\n",
       "      <th>sales</th>\n",
       "    </tr>\n",
       "  </thead>\n",
       "  <tbody>\n",
       "    <tr>\n",
       "      <th>0</th>\n",
       "      <td>8</td>\n",
       "      <td>232</td>\n",
       "      <td>576</td>\n",
       "      <td>120</td>\n",
       "      <td>28768.0</td>\n",
       "    </tr>\n",
       "    <tr>\n",
       "      <th>1</th>\n",
       "      <td>77</td>\n",
       "      <td>151</td>\n",
       "      <td>608</td>\n",
       "      <td>143</td>\n",
       "      <td>19418.6</td>\n",
       "    </tr>\n",
       "    <tr>\n",
       "      <th>2</th>\n",
       "      <td>97</td>\n",
       "      <td>132</td>\n",
       "      <td>544</td>\n",
       "      <td>58</td>\n",
       "      <td>14731.2</td>\n",
       "    </tr>\n",
       "    <tr>\n",
       "      <th>3</th>\n",
       "      <td>37</td>\n",
       "      <td>183</td>\n",
       "      <td>625</td>\n",
       "      <td>140</td>\n",
       "      <td>23424.0</td>\n",
       "    </tr>\n",
       "    <tr>\n",
       "      <th>4</th>\n",
       "      <td>128</td>\n",
       "      <td>18</td>\n",
       "      <td>634</td>\n",
       "      <td>133</td>\n",
       "      <td>2278.8</td>\n",
       "    </tr>\n",
       "  </tbody>\n",
       "</table>\n",
       "</div>"
      ],
      "text/plain": [
       "   number_of_doctors  visits  number_of_patients  advertising    sales\n",
       "0                  8     232                 576          120  28768.0\n",
       "1                 77     151                 608          143  19418.6\n",
       "2                 97     132                 544           58  14731.2\n",
       "3                 37     183                 625          140  23424.0\n",
       "4                128      18                 634          133   2278.8"
      ]
     },
     "execution_count": 69,
     "metadata": {},
     "output_type": "execute_result"
    }
   ],
   "source": [
    "data.drop('date', axis = 1, inplace = True) # убираем колонку date для анализа данных\n",
    "data.head()"
   ]
  },
  {
   "cell_type": "code",
   "execution_count": 70,
   "metadata": {},
   "outputs": [
    {
     "name": "stdout",
     "output_type": "stream",
     "text": [
      "Weights: [ -1.02654266 119.9733273    0.81970365  25.58784913]\n",
      "Bias: -2920.9744492063073\n",
      "Error: 667.9751227926763\n"
     ]
    }
   ],
   "source": [
    "from sklearn.metrics import mean_absolute_error\n",
    "\n",
    "X = data[['number_of_doctors', 'visits', 'number_of_patients', 'advertising']]\n",
    "y = data['sales']\n",
    "reg = LinearRegression().fit(X, y)\n",
    "print('Weights: {}'.format(reg.coef_))\n",
    "print('Bias: {}'.format(reg.intercept_))\n",
    "\n",
    "pred_values = reg.predict(data[['number_of_doctors', 'visits', 'number_of_patients', 'advertising']])\n",
    "print('Error: {}'.format(mean_absolute_error(pred_values, y)))"
   ]
  },
  {
   "cell_type": "code",
   "execution_count": 71,
   "metadata": {},
   "outputs": [
    {
     "data": {
      "text/html": [
       "<div>\n",
       "<style scoped>\n",
       "    .dataframe tbody tr th:only-of-type {\n",
       "        vertical-align: middle;\n",
       "    }\n",
       "\n",
       "    .dataframe tbody tr th {\n",
       "        vertical-align: top;\n",
       "    }\n",
       "\n",
       "    .dataframe thead th {\n",
       "        text-align: right;\n",
       "    }\n",
       "</style>\n",
       "<table border=\"1\" class=\"dataframe\">\n",
       "  <thead>\n",
       "    <tr style=\"text-align: right;\">\n",
       "      <th></th>\n",
       "      <th>number_of_doctors</th>\n",
       "      <th>visits</th>\n",
       "      <th>advertising</th>\n",
       "      <th>sales</th>\n",
       "    </tr>\n",
       "  </thead>\n",
       "  <tbody>\n",
       "    <tr>\n",
       "      <th>0</th>\n",
       "      <td>8</td>\n",
       "      <td>232</td>\n",
       "      <td>120</td>\n",
       "      <td>28768.0</td>\n",
       "    </tr>\n",
       "    <tr>\n",
       "      <th>1</th>\n",
       "      <td>77</td>\n",
       "      <td>151</td>\n",
       "      <td>143</td>\n",
       "      <td>19418.6</td>\n",
       "    </tr>\n",
       "    <tr>\n",
       "      <th>2</th>\n",
       "      <td>97</td>\n",
       "      <td>132</td>\n",
       "      <td>58</td>\n",
       "      <td>14731.2</td>\n",
       "    </tr>\n",
       "    <tr>\n",
       "      <th>3</th>\n",
       "      <td>37</td>\n",
       "      <td>183</td>\n",
       "      <td>140</td>\n",
       "      <td>23424.0</td>\n",
       "    </tr>\n",
       "    <tr>\n",
       "      <th>4</th>\n",
       "      <td>128</td>\n",
       "      <td>18</td>\n",
       "      <td>133</td>\n",
       "      <td>2278.8</td>\n",
       "    </tr>\n",
       "  </tbody>\n",
       "</table>\n",
       "</div>"
      ],
      "text/plain": [
       "   number_of_doctors  visits  advertising    sales\n",
       "0                  8     232          120  28768.0\n",
       "1                 77     151          143  19418.6\n",
       "2                 97     132           58  14731.2\n",
       "3                 37     183          140  23424.0\n",
       "4                128      18          133   2278.8"
      ]
     },
     "execution_count": 71,
     "metadata": {},
     "output_type": "execute_result"
    }
   ],
   "source": [
    "# убираем количество пациентов в городе, эти данные абсолютно не влияют на экономические показатели нашей клиники\n",
    "data.drop('number_of_patients', axis = 1, inplace = True) \n",
    "data.head()"
   ]
  },
  {
   "cell_type": "code",
   "execution_count": 72,
   "metadata": {},
   "outputs": [
    {
     "name": "stdout",
     "output_type": "stream",
     "text": [
      "Weights: [ -1.02777486 119.97696616  25.60978274]\n",
      "Bias: -2454.5618049686746\n",
      "Error: 667.708436584308\n"
     ]
    }
   ],
   "source": [
    "# несмотря на это показатель ошибки стал чуть больше\n",
    "X = data[['number_of_doctors', 'visits', 'advertising']]\n",
    "y = data['sales']\n",
    "reg = LinearRegression().fit(X, y)\n",
    "print('Weights: {}'.format(reg.coef_))\n",
    "print('Bias: {}'.format(reg.intercept_))\n",
    "\n",
    "pred_values = reg.predict(data[['number_of_doctors', 'visits', 'advertising']])\n",
    "print('Error: {}'.format(mean_absolute_error(pred_values, y)))"
   ]
  },
  {
   "cell_type": "code",
   "execution_count": 73,
   "metadata": {},
   "outputs": [
    {
     "data": {
      "text/html": [
       "<div>\n",
       "<style scoped>\n",
       "    .dataframe tbody tr th:only-of-type {\n",
       "        vertical-align: middle;\n",
       "    }\n",
       "\n",
       "    .dataframe tbody tr th {\n",
       "        vertical-align: top;\n",
       "    }\n",
       "\n",
       "    .dataframe thead th {\n",
       "        text-align: right;\n",
       "    }\n",
       "</style>\n",
       "<table border=\"1\" class=\"dataframe\">\n",
       "  <thead>\n",
       "    <tr style=\"text-align: right;\">\n",
       "      <th></th>\n",
       "      <th>0</th>\n",
       "      <th>1</th>\n",
       "      <th>2</th>\n",
       "      <th>3</th>\n",
       "    </tr>\n",
       "  </thead>\n",
       "  <tbody>\n",
       "    <tr>\n",
       "      <th>0</th>\n",
       "      <td>0.053691</td>\n",
       "      <td>0.931452</td>\n",
       "      <td>0.603015</td>\n",
       "      <td>0.851643</td>\n",
       "    </tr>\n",
       "    <tr>\n",
       "      <th>1</th>\n",
       "      <td>0.516779</td>\n",
       "      <td>0.604839</td>\n",
       "      <td>0.718593</td>\n",
       "      <td>0.573846</td>\n",
       "    </tr>\n",
       "    <tr>\n",
       "      <th>2</th>\n",
       "      <td>0.651007</td>\n",
       "      <td>0.528226</td>\n",
       "      <td>0.291457</td>\n",
       "      <td>0.434569</td>\n",
       "    </tr>\n",
       "    <tr>\n",
       "      <th>3</th>\n",
       "      <td>0.248322</td>\n",
       "      <td>0.733871</td>\n",
       "      <td>0.703518</td>\n",
       "      <td>0.692858</td>\n",
       "    </tr>\n",
       "    <tr>\n",
       "      <th>4</th>\n",
       "      <td>0.859060</td>\n",
       "      <td>0.068548</td>\n",
       "      <td>0.668342</td>\n",
       "      <td>0.064572</td>\n",
       "    </tr>\n",
       "  </tbody>\n",
       "</table>\n",
       "</div>"
      ],
      "text/plain": [
       "          0         1         2         3\n",
       "0  0.053691  0.931452  0.603015  0.851643\n",
       "1  0.516779  0.604839  0.718593  0.573846\n",
       "2  0.651007  0.528226  0.291457  0.434569\n",
       "3  0.248322  0.733871  0.703518  0.692858\n",
       "4  0.859060  0.068548  0.668342  0.064572"
      ]
     },
     "execution_count": 73,
     "metadata": {},
     "output_type": "execute_result"
    }
   ],
   "source": [
    "# пробуем то же самое, но на нормализованных данных\n",
    "\n",
    "from sklearn import preprocessing\n",
    "min_max_scaler = preprocessing.MinMaxScaler(feature_range=(0,1))\n",
    "np_scaled = min_max_scaler.fit_transform(data)\n",
    "data_norm = pd.DataFrame(np_scaled)\n",
    "data_norm.head()"
   ]
  },
  {
   "cell_type": "code",
   "execution_count": 74,
   "metadata": {},
   "outputs": [
    {
     "name": "stdout",
     "output_type": "stream",
     "text": [
      "Weights: [[-0.00455019  0.88408658  0.15142731]]\n",
      "Bias: [-0.072505]\n",
      "Error: 0.019839563237528238\n"
     ]
    }
   ],
   "source": [
    "# нормализация данных не дала никакого эффекта, если перевести Error в проценты в обоих вариантах, это можно увидеть\n",
    "X = data_norm.iloc[:,:3]\n",
    "y = data_norm.iloc[:,3:]\n",
    "reg = LinearRegression().fit(X, y)\n",
    "print('Weights: {}'.format(reg.coef_))\n",
    "print('Bias: {}'.format(reg.intercept_))\n",
    "\n",
    "pred_values = reg.predict(X)\n",
    "print('Error: {}'.format(mean_absolute_error(pred_values, y)))"
   ]
  },
  {
   "cell_type": "markdown",
   "metadata": {},
   "source": [
    "### Добавим новый показатель затраты медицинской клиники, логично предположить чем больше компания инвестирует в медицинское оборудование и в персонал, тем выше продажи, так как все хотят идти к грамотному специалисту и лечиться по самым передовым стандартам"
   ]
  },
  {
   "cell_type": "code",
   "execution_count": 75,
   "metadata": {},
   "outputs": [
    {
     "data": {
      "text/html": [
       "<div>\n",
       "<style scoped>\n",
       "    .dataframe tbody tr th:only-of-type {\n",
       "        vertical-align: middle;\n",
       "    }\n",
       "\n",
       "    .dataframe tbody tr th {\n",
       "        vertical-align: top;\n",
       "    }\n",
       "\n",
       "    .dataframe thead th {\n",
       "        text-align: right;\n",
       "    }\n",
       "</style>\n",
       "<table border=\"1\" class=\"dataframe\">\n",
       "  <thead>\n",
       "    <tr style=\"text-align: right;\">\n",
       "      <th></th>\n",
       "      <th>number_of_doctors</th>\n",
       "      <th>visits</th>\n",
       "      <th>advertising</th>\n",
       "      <th>sales</th>\n",
       "      <th>costs</th>\n",
       "    </tr>\n",
       "  </thead>\n",
       "  <tbody>\n",
       "    <tr>\n",
       "      <th>0</th>\n",
       "      <td>8</td>\n",
       "      <td>232</td>\n",
       "      <td>120</td>\n",
       "      <td>28768.0</td>\n",
       "      <td>27840</td>\n",
       "    </tr>\n",
       "    <tr>\n",
       "      <th>1</th>\n",
       "      <td>77</td>\n",
       "      <td>151</td>\n",
       "      <td>143</td>\n",
       "      <td>19418.6</td>\n",
       "      <td>21593</td>\n",
       "    </tr>\n",
       "    <tr>\n",
       "      <th>2</th>\n",
       "      <td>97</td>\n",
       "      <td>132</td>\n",
       "      <td>58</td>\n",
       "      <td>14731.2</td>\n",
       "      <td>7656</td>\n",
       "    </tr>\n",
       "    <tr>\n",
       "      <th>3</th>\n",
       "      <td>37</td>\n",
       "      <td>183</td>\n",
       "      <td>140</td>\n",
       "      <td>23424.0</td>\n",
       "      <td>25620</td>\n",
       "    </tr>\n",
       "    <tr>\n",
       "      <th>4</th>\n",
       "      <td>128</td>\n",
       "      <td>18</td>\n",
       "      <td>133</td>\n",
       "      <td>2278.8</td>\n",
       "      <td>2394</td>\n",
       "    </tr>\n",
       "  </tbody>\n",
       "</table>\n",
       "</div>"
      ],
      "text/plain": [
       "   number_of_doctors  visits  advertising    sales  costs\n",
       "0                  8     232          120  28768.0  27840\n",
       "1                 77     151          143  19418.6  21593\n",
       "2                 97     132           58  14731.2   7656\n",
       "3                 37     183          140  23424.0  25620\n",
       "4                128      18          133   2278.8   2394"
      ]
     },
     "execution_count": 75,
     "metadata": {},
     "output_type": "execute_result"
    }
   ],
   "source": [
    "# для расчета сделаем следующее предположение\n",
    "data['costs'] = data['visits'] * data['advertising']\n",
    "data.head()"
   ]
  },
  {
   "cell_type": "code",
   "execution_count": 76,
   "metadata": {},
   "outputs": [
    {
     "name": "stdout",
     "output_type": "stream",
     "text": [
      "Weights: [-1.42923827e-13  1.00000000e+02 -1.67045386e-13  2.00000000e-01]\n",
      "Bias: 8.003553375601768e-10\n",
      "Error: 5.229143766882771e-10\n"
     ]
    }
   ],
   "source": [
    "X = data[['number_of_doctors', 'visits', 'advertising', 'costs']]\n",
    "y = data['sales']\n",
    "reg = LinearRegression().fit(X, y)\n",
    "print('Weights: {}'.format(reg.coef_))\n",
    "print('Bias: {}'.format(reg.intercept_))\n",
    "\n",
    "pred_values = reg.predict(data[['number_of_doctors', 'visits', 'advertising', 'costs']])\n",
    "print('Error: {}'.format(mean_absolute_error(pred_values, y)))\n",
    "\n",
    "# WIN -))"
   ]
  },
  {
   "cell_type": "code",
   "execution_count": 77,
   "metadata": {},
   "outputs": [
    {
     "name": "stdout",
     "output_type": "stream",
     "text": [
      "Weights: [0.61981569]\n",
      "Bias: 7177.425622232559\n",
      "Error, %: 29.545049760675084\n"
     ]
    }
   ],
   "source": [
    "# Поэксперементируем \n",
    "X = data[['costs']]\n",
    "y = data['sales']\n",
    "reg = LinearRegression().fit(X, y)\n",
    "print('Weights: {}'.format(reg.coef_))\n",
    "print('Bias: {}'.format(reg.intercept_))\n",
    "\n",
    "pred_values = reg.predict(data[['costs']])\n",
    "print('Error, %: {}'.format(mean_absolute_error(pred_values, y) * 100 / data.sales.mean()))\n",
    "\n",
    "# очень большая ошибка"
   ]
  },
  {
   "cell_type": "code",
   "execution_count": 78,
   "metadata": {},
   "outputs": [
    {
     "data": {
      "image/png": "[encoded data removed]",
      "text/plain": [
       "<Figure size 432x288 with 1 Axes>"
      ]
     },
     "metadata": {
      "needs_background": "light"
     },
     "output_type": "display_data"
    }
   ],
   "source": [
    "# построим визуализацию того, что казалось бы, должно работать\n",
    "import seaborn as sns\n",
    "import matplotlib.pyplot as plt\n",
    "sns.regplot(x = data['costs'], y = data['sales'], data=data, fit_reg=True)\n",
    "plt.show()\n",
    "# видим выбросы и их безумно много"
   ]
  },
  {
   "cell_type": "code",
   "execution_count": 79,
   "metadata": {},
   "outputs": [
    {
     "name": "stdout",
     "output_type": "stream",
     "text": [
      "Weights: [120.68405288]\n",
      "Bias: -30.102937259283863\n",
      "Error, %: 8.646733735519714\n"
     ]
    }
   ],
   "source": [
    "# Попробуем с другим параметром\n",
    "X = data[['visits']]\n",
    "y = data['sales']\n",
    "reg = LinearRegression().fit(X, y)\n",
    "print('Weights: {}'.format(reg.coef_))\n",
    "print('Bias: {}'.format(reg.intercept_))\n",
    "\n",
    "pred_values = reg.predict(data[['visits']])\n",
    "print('Error, %: {}'.format(mean_absolute_error(pred_values, y) * 100 / data.sales.mean()))\n",
    "\n",
    "# значительно меньше, чем в первом варианте, но с точки зрения практики, возможно это допустимая ошибка в данном значении"
   ]
  },
  {
   "cell_type": "code",
   "execution_count": 80,
   "metadata": {},
   "outputs": [
    {
     "data": {
      "image/png": "[encoded data removed]",
      "text/plain": [
       "<Figure size 432x288 with 1 Axes>"
      ]
     },
     "metadata": {
      "needs_background": "light"
     },
     "output_type": "display_data"
    }
   ],
   "source": [
    "# построим визуализацию\n",
    "import seaborn as sns\n",
    "import matplotlib.pyplot as plt\n",
    "sns.regplot(x = data['visits'], y = data['sales'], data=data, fit_reg=True)\n",
    "plt.show()"
   ]
  }
 ],
 "metadata": {
  "kernelspec": {
   "display_name": "Python 3",
   "language": "python",
   "name": "python3"
  },
  "language_info": {
   "codemirror_mode": {
    "name": "ipython",
    "version": 3
   },
   "file_extension": ".py",
   "mimetype": "text/x-python",
   "name": "python",
   "nbconvert_exporter": "python",
   "pygments_lexer": "ipython3",
   "version": "3.7.6"
  }
 },
 "nbformat": 4,
 "nbformat_minor": 4
}
