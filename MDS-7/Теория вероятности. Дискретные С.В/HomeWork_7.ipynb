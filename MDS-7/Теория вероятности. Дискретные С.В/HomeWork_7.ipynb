{
 "cells": [
  {
   "cell_type": "markdown",
   "metadata": {},
   "source": [
    "### Задание 1"
   ]
  },
  {
   "cell_type": "markdown",
   "metadata": {},
   "source": [
    "Монетку подбрасывают 15 раз, найдите вероятность выпадения простого числа орлов (решение на бумажке и на python)."
   ]
  },
  {
   "cell_type": "code",
   "execution_count": 1,
   "metadata": {},
   "outputs": [],
   "source": [
    "import matplotlib.pyplot as plt\n",
    "import numpy as np\n",
    "import random\n",
    "from scipy.stats import binom\n",
    "import statistics\n",
    "\n",
    "from numpy.random import choice\n",
    "from scipy.stats import *\n",
    "\n",
    "%matplotlib inline"
   ]
  },
  {
   "cell_type": "code",
   "execution_count": 3,
   "metadata": {},
   "outputs": [],
   "source": [
    "def iprimes_upto(limit):\n",
    "    is_prime = [False] * 2 + [True] * (limit - 1)\n",
    "    for n in range(int(limit**0.5 + 1.5)): # stop at ``sqrt(limit)``\n",
    "        if is_prime[n]:\n",
    "            for i in range(n * n, limit + 1, n): # start at ``n`` squared\n",
    "                is_prime[i] = False\n",
    "    for i in range(limit + 1):\n",
    "        if is_prime[i]: yield i"
   ]
  },
  {
   "cell_type": "code",
   "execution_count": 4,
   "metadata": {},
   "outputs": [
    {
     "data": {
      "text/plain": [
       "0.3499755859375009"
      ]
     },
     "execution_count": 4,
     "metadata": {},
     "output_type": "execute_result"
    }
   ],
   "source": [
    "x = list(iprimes_upto(15))\n",
    "n, p = 15, 0.5\n",
    "prb = 0\n",
    "for xx in x:\n",
    "    prb += binom.pmf(xx, n, p)\n",
    "prb"
   ]
  },
  {
   "cell_type": "code",
   "execution_count": 5,
   "metadata": {},
   "outputs": [
    {
     "data": {
      "text/plain": [
       "[2, 3, 5, 7, 11, 13]"
      ]
     },
     "execution_count": 5,
     "metadata": {},
     "output_type": "execute_result"
    }
   ],
   "source": [
    "x"
   ]
  },
  {
   "cell_type": "markdown",
   "metadata": {},
   "source": [
    "Простые числа в интервале от 1 до 15 будут: 2, 3, 5, 7, 11, 13. Всего простых чисел 6. Всего чисел в нашем множестве 15. Вероятность выпадения любого числа в нашем случае имеет биноминальное распределение. Нас интересует сумма шести слагаемых, отвечающих за выпадение простых чисел. "
   ]
  },
  {
   "cell_type": "code",
   "execution_count": 6,
   "metadata": {},
   "outputs": [],
   "source": [
    "p = 0.5\n",
    "n = 15"
   ]
  },
  {
   "cell_type": "code",
   "execution_count": 7,
   "metadata": {},
   "outputs": [],
   "source": [
    "b2 = binom.pmf (2, n, p)\n",
    "b3 = binom.pmf (3, n, p)\n",
    "b5 = binom.pmf (5, n, p)\n",
    "b7 = binom.pmf (7, n, p)\n",
    "b11 = binom.pmf (11, n, p)\n",
    "b13 = binom.pmf (13, n, p)"
   ]
  },
  {
   "cell_type": "code",
   "execution_count": 8,
   "metadata": {},
   "outputs": [
    {
     "data": {
      "text/plain": [
       "0.3499755859375009"
      ]
     },
     "execution_count": 8,
     "metadata": {},
     "output_type": "execute_result"
    }
   ],
   "source": [
    "b2 + b3 + b5 + b7 + b11 + b13"
   ]
  },
  {
   "cell_type": "markdown",
   "metadata": {},
   "source": [
    "### Решение на бумажке:\n",
    "Количество экспериментов (n) - 15. Количество простых чисел от 1 до 15 - 6 (2,3,5,7,11,13)\n",
    "\n",
    "Так как результат броска одной монеты не влияет на последующие броски, вероятность выпадения орла в каждом броске одинакова (и равна p=1/2=0.5), то можно для вычисления вероятности применить формулу Бернулли:\n",
    "\n",
    "p(k) = c*((1/2)**n) = (в нашем случае) с/32768\n",
    "\n",
    "где c = n!/(k!*(1-k)!)\n",
    "\n",
    "После чего сложим вероятности всех событий:\n",
    "\n",
    "p = (p(2)+p(3)+p(5)+p(7)+p(11)+p(13))/32768 = 105+455+3003+6435+1365+105 = 11468/32768 = 0,35"
   ]
  },
  {
   "cell_type": "markdown",
   "metadata": {},
   "source": [
    "### Задание 2"
   ]
  },
  {
   "cell_type": "markdown",
   "metadata": {},
   "source": [
    "Создайте свою дискретную случайную величину с не менее, чем 10 значениями. Просемплируйте 1000 случайных значений, постройте гистограмму плотности распределения по выборке, посчитайте среднее, дисперсию и медиану."
   ]
  },
  {
   "cell_type": "code",
   "execution_count": 9,
   "metadata": {},
   "outputs": [],
   "source": [
    "from random import randint\n",
    "\n",
    "i = 0\n",
    "res = []\n",
    "while i < 1000:\n",
    "    res.append(randint(1,10))\n",
    "    i += 1"
   ]
  },
  {
   "cell_type": "code",
   "execution_count": 10,
   "metadata": {},
   "outputs": [
    {
     "data": {
      "image/png": "[encoded data removed]",
      "text/plain": [
       "<Figure size 432x288 with 1 Axes>"
      ]
     },
     "metadata": {
      "needs_background": "light"
     },
     "output_type": "display_data"
    }
   ],
   "source": [
    "plt.hist(res)\n",
    "plt.show()"
   ]
  },
  {
   "cell_type": "code",
   "execution_count": 13,
   "metadata": {},
   "outputs": [
    {
     "name": "stdout",
     "output_type": "stream",
     "text": [
      "Среднее: 5.487, Медиана: 5.0, Дисперсия: 8.347831\n"
     ]
    }
   ],
   "source": [
    "print(f'Среднее: {np.mean(res)}, Медиана: {np.median(res)}, Дисперсия: {np.var(res)}')"
   ]
  },
  {
   "cell_type": "markdown",
   "metadata": {},
   "source": [
    "### Задание 3"
   ]
  },
  {
   "cell_type": "markdown",
   "metadata": {},
   "source": [
    "Пусть брошены 3 уравновешенные монеты. Рассмотрим 3 события:\n",
    "\n",
    "$A_1$ - монеты 1 и 2 упали одной и той же стороной,\n",
    "\n",
    "$A_2$ - монеты 2 и 3 упали одной и той же стороной,\n",
    "\n",
    "$A_3$ - монеты 1 и 3 упали одной и той же стороной.\n",
    "\n",
    "Покажите, почему эти 3 события являются попарно независимыми, но <b>не</b> являются независимыми в совокупности."
   ]
  },
  {
   "cell_type": "markdown",
   "metadata": {},
   "source": [
    "Попарно события независимы. Рассмотрим произвольную пару событий (любую). Аналогично для других пар. Возьмём пару событий $A_1$ и $A_3$. Пусть выполнено одно из них, например $A_3$. Это означает, что монеты 1 и 3 упали одной и той же стороной. Данная информация нам не даёт информации о состоянии монеты 2. Следовательно мы не знаем произошло или нет событие $A_1$. Как результат наступления события $A_3$ не изменяет вероятность наступления события $A_1$. События $A_1$ и $A_3$ попарно независимы, как и любая другая пара событий из этой тройки событий.\n",
    "\n",
    "Все три события в совокупности зависимы. Пусть события $A_1$ и $A_2$ произошли. Согласно событиям $A_1$ и $A_2$ монеты 1, 2, 3 упали одной и той же стороной, то есть и событие $A_3$ выполнено. Также можно рассуждать, взяв за основу то, что события $A_1$ и $A_3$ выполнены, тогда как следствие событие $A_2$ выполнено. Если события $A_2$ и $A_3$ произошли, то и монеты 1 и 2 упали одной стороной (событие $A_1$)."
   ]
  },
  {
   "cell_type": "markdown",
   "metadata": {},
   "source": [
    "### Задание 4 (формула полной вероятности)"
   ]
  },
  {
   "cell_type": "markdown",
   "metadata": {},
   "source": [
    "В магазин привезли устройства с 3-х разных предприятий. Соотношение устройств следующее: 20% - продукция первого предприятия, 30% - продукция второго предприятия, 50% - продукция третьего предприятия; далее, 10% продукции первого предприятия высшего сорта, на втором предприятии - 5% и на третьем - 20% продукции высшего сорта. Найти вероятность того, что случайно купленная новая продукция окажется высшего сорта."
   ]
  },
  {
   "cell_type": "markdown",
   "metadata": {},
   "source": [
    "Обозначим через $A$ событие, заключающееся в том, что будет куплена продукция высшего сорта, через $B_1$, $B_2$, $B_3$ обозначним события, заключающиеся в покупке продукции, принадлежащей соответственно первому, второму и третьему предприятиям.\n",
    "\n",
    "Можно применить формулу полной вероятности, причём в наших обозначениях:\n",
    "1. $P(B_1)$ = 0,2 $P(A|B_1)$ = 0,1\n",
    "2. $P(B_2)$ = 0,3 $P(A|B_2)$ = 0,05\n",
    "3. $P(B_3)$ = 0,5 $P(A|B_3)$ = 0,2\n",
    "\n",
    "Подставляя эти значения в формулу полной вероятности, получим искомую вероятность:\n",
    "$P(A) = P(A|B_1) * P(B_1) + P(A|B_2) * P(B_2) + P(A|B_3) P(B_3)$\n",
    "\n",
    "$P(A) = 0,2 * 0,1 + 0,3 * 0,05 + 0,5 * 0,2$\n",
    "\n",
    "$P(A) = 0,135$"
   ]
  }
 ],
 "metadata": {
  "kernelspec": {
   "display_name": "Python 3",
   "language": "python",
   "name": "python3"
  },
  "language_info": {
   "codemirror_mode": {
    "name": "ipython",
    "version": 3
   },
   "file_extension": ".py",
   "mimetype": "text/x-python",
   "name": "python",
   "nbconvert_exporter": "python",
   "pygments_lexer": "ipython3",
   "version": "3.7.6"
  }
 },
 "nbformat": 4,
 "nbformat_minor": 2
}
