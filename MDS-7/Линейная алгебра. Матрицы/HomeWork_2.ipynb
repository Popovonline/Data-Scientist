{
 "cells": [
  {
   "cell_type": "markdown",
   "metadata": {},
   "source": [
    "# Домашнее задание \"Линейная алгебра. Матрицы.\""
   ]
  },
  {
   "cell_type": "code",
   "execution_count": 8,
   "metadata": {},
   "outputs": [],
   "source": [
    "import numpy as np\n",
    "import matplotlib.pyplot as plt\n",
    "import math\n",
    "import pandas as pd\n",
    "%matplotlib inline"
   ]
  },
  {
   "cell_type": "markdown",
   "metadata": {},
   "source": [
    "### Уровень 0:\n",
    "1. Создайте матрицу 3 на 3, заполненную числами от 1 до 9\n",
    "2. Прибавьте к ней матрицу с единицами на диагонале\n",
    "3. Умножьте полученную матрицу на вектор (1, 2, 3)\n",
    "4. Посчитайте обратную матрицу к полученной матрице"
   ]
  },
  {
   "cell_type": "code",
   "execution_count": 5,
   "metadata": {},
   "outputs": [
    {
     "data": {
      "text/plain": [
       "array([[1, 2, 3],\n",
       "       [4, 5, 6],\n",
       "       [7, 8, 9]])"
      ]
     },
     "execution_count": 5,
     "metadata": {},
     "output_type": "execute_result"
    }
   ],
   "source": [
    "# 1\n",
    "data_1 = np.arange(1,10).reshape(3,3)\n",
    "data_1"
   ]
  },
  {
   "cell_type": "code",
   "execution_count": 11,
   "metadata": {},
   "outputs": [
    {
     "data": {
      "text/plain": [
       "array([[ 2.,  2.,  3.],\n",
       "       [ 4.,  6.,  6.],\n",
       "       [ 7.,  8., 10.]])"
      ]
     },
     "execution_count": 11,
     "metadata": {},
     "output_type": "execute_result"
    }
   ],
   "source": [
    "# 2\n",
    "data_2 = np.eye(3)\n",
    "data_2\n",
    "\n",
    "data_3 = data_1 + data_2\n",
    "data_3"
   ]
  },
  {
   "cell_type": "code",
   "execution_count": 15,
   "metadata": {},
   "outputs": [
    {
     "data": {
      "text/plain": [
       "array([15., 34., 53.])"
      ]
     },
     "execution_count": 15,
     "metadata": {},
     "output_type": "execute_result"
    }
   ],
   "source": [
    "# 3\n",
    "vector = np.array([1,2,3])\n",
    "vector\n",
    "\n",
    "data_4 = np.dot(data_3, vector)\n",
    "data_4"
   ]
  },
  {
   "cell_type": "code",
   "execution_count": 17,
   "metadata": {},
   "outputs": [
    {
     "data": {
      "text/plain": [
       "array([[ 2.,  4.,  9.],\n",
       "       [ 4., 12., 18.],\n",
       "       [ 7., 16., 30.]])"
      ]
     },
     "execution_count": 17,
     "metadata": {},
     "output_type": "execute_result"
    }
   ],
   "source": [
    "# 4\n",
    "data_5 = data_3 * vector\n",
    "data_5"
   ]
  },
  {
   "cell_type": "code",
   "execution_count": 18,
   "metadata": {},
   "outputs": [
    {
     "data": {
      "text/plain": [
       "array([[-6.    , -2.    ,  3.    ],\n",
       "       [-0.5   ,  0.25  ,  0.    ],\n",
       "       [ 1.6667,  0.3333, -0.6667]])"
      ]
     },
     "execution_count": 18,
     "metadata": {},
     "output_type": "execute_result"
    }
   ],
   "source": [
    "# Найдём обратную матрицу к матрице data_5\n",
    "data_6 = np.linalg.inv(data_5).round(4)\n",
    "data_6"
   ]
  },
  {
   "cell_type": "code",
   "execution_count": 20,
   "metadata": {},
   "outputs": [
    {
     "data": {
      "text/plain": [
       "array([[ 1.,  0.,  0.],\n",
       "       [ 0.,  1.,  0.],\n",
       "       [-0., -0.,  1.]])"
      ]
     },
     "execution_count": 20,
     "metadata": {},
     "output_type": "execute_result"
    }
   ],
   "source": [
    "# проверка\n",
    "np.dot(data_5,data_6).round(2)\n",
    "np.dot(data_6,data_5).round(2)"
   ]
  },
  {
   "cell_type": "markdown",
   "metadata": {},
   "source": [
    "# Уровень 1:\n",
    "Дан объект в 2d пространстве:\n",
    "import numpy as np\n",
    "import matplotlib.pyplot as plt\n",
    "\n",
    "A = [\n",
    "[-100, -100, 1],\n",
    "[-100, 100, 1],\n",
    "[100, 100, 1],\n",
    "[0, 0, 1],\n",
    "[100, -100, 1],\n",
    "[-100, -100, 1]\n",
    "]\n",
    "A = np.array(A)\n",
    "x = A[:,0]\n",
    "y = A[:,1]\n",
    "plt.plot(x, y)\n",
    "plt.ylim([-200, 200])\n",
    "plt.xlim([-200, 200])\n",
    "\n",
    "При помощи матричных операций выполните:\n",
    "1. Уменьшить объект в два раза.\n",
    "2. Повернуть на 130 градусов.\n",
    "3. Отразить объект относительно прямой y=x\n",
    "4. Выполнить смещение объекта и масштабирование (применить 2 матрицы трансформаций). Смещение на (200, 300) и масштабирование на (0.5, 1,2)"
   ]
  },
  {
   "cell_type": "code",
   "execution_count": 21,
   "metadata": {},
   "outputs": [
    {
     "data": {
      "text/plain": [
       "(-200.0, 200.0)"
      ]
     },
     "execution_count": 21,
     "metadata": {},
     "output_type": "execute_result"
    },
    {
     "data": {
      "image/png": "[encoded data removed]",
      "text/plain": [
       "<Figure size 432x288 with 1 Axes>"
      ]
     },
     "metadata": {
      "needs_background": "light"
     },
     "output_type": "display_data"
    }
   ],
   "source": [
    "import numpy as np\n",
    "import matplotlib.pyplot as plt\n",
    "\n",
    "A = [  \n",
    "[-100, -100, 1],  \n",
    "[-100, 100, 1],  \n",
    "[100, 100, 1],  \n",
    "[0, 0, 1],  \n",
    "[100, -100, 1],  \n",
    "[-100, -100, 1]  \n",
    "]  \n",
    "A = np.array(A)  \n",
    "x = A[:,0]  \n",
    "y = A[:,1]  \n",
    "plt.plot(x, y)  \n",
    "plt.ylim([-200, 200])  \n",
    "plt.xlim([-200, 200])"
   ]
  },
  {
   "cell_type": "code",
   "execution_count": 22,
   "metadata": {},
   "outputs": [
    {
     "data": {
      "image/png": "[encoded data removed]",
      "text/plain": [
       "<Figure size 432x432 with 1 Axes>"
      ]
     },
     "metadata": {
      "needs_background": "light"
     },
     "output_type": "display_data"
    }
   ],
   "source": [
    "# 1 Уменьшим объект в два раза.\n",
    "\n",
    "half = A*0.5\n",
    "\n",
    "x = half[:,0]\n",
    "y = half[:,1]\n",
    "\n",
    "plt.figure(figsize = (6, 6))\n",
    "plt.plot(x, y)\n",
    "plt.ylim([-200, 200])\n",
    "plt.xlim([-200, 200])\n",
    "plt.show()"
   ]
  },
  {
   "cell_type": "code",
   "execution_count": 23,
   "metadata": {},
   "outputs": [
    {
     "data": {
      "image/png": "[encoded data removed]",
      "text/plain": [
       "<Figure size 432x432 with 1 Axes>"
      ]
     },
     "metadata": {
      "needs_background": "light"
     },
     "output_type": "display_data"
    }
   ],
   "source": [
    "# 2 повернем на 130 градусов\n",
    "\n",
    "import math\n",
    "\n",
    "c = np.cos(math.radians(130))\n",
    "s = np.sin(math.radians(130))\n",
    "\n",
    "RTM = np.array([\n",
    "[c, -s],\n",
    "[s, c]\n",
    "])\n",
    "\n",
    "x = A[:,0]\n",
    "y = A[:,1]\n",
    "\n",
    "xy = np.array([x,y]).transpose()\n",
    "\n",
    "rotate = np.dot(xy, RTM)\n",
    "\n",
    "x = rotate[:,0]\n",
    "y = rotate[:,1]\n",
    "\n",
    "plt.figure(figsize = (6, 6))\n",
    "plt.plot(x, y)\n",
    "plt.ylim([-200, 200])\n",
    "plt.xlim([-200, 200])\n",
    "plt.show()"
   ]
  },
  {
   "cell_type": "code",
   "execution_count": 24,
   "metadata": {},
   "outputs": [
    {
     "data": {
      "image/png": "[encoded data removed]",
      "text/plain": [
       "<Figure size 432x432 with 1 Axes>"
      ]
     },
     "metadata": {
      "needs_background": "light"
     },
     "output_type": "display_data"
    }
   ],
   "source": [
    "# 3 отразим объект относительно прямой y=x\n",
    "\n",
    "# Отражение разбиваем на: \n",
    "# поворот на 45 градусов\n",
    "\n",
    "c = np.cos(math.radians(45))\n",
    "s = np.sin(math.radians(45))\n",
    "\n",
    "RTM = np.array([\n",
    "[c, -s],\n",
    "[s, c]\n",
    "])\n",
    "\n",
    "x = A[:,0]\n",
    "y = A[:,1]\n",
    "\n",
    "xy = np.array([x,y]).transpose()\n",
    "\n",
    "rotate = np.dot(xy, RTM)\n",
    "\n",
    "# и последующее отражение\n",
    "\n",
    "FLIP = np.array([\n",
    "[-1, 0],\n",
    "[0, -1]\n",
    "])\n",
    "\n",
    "flipped = np.dot(rotate, FLIP)\n",
    "\n",
    "x = flipped[:,0]\n",
    "y = flipped[:,1]\n",
    "\n",
    "plt.figure(figsize = (6, 6))\n",
    "plt.plot(x, y)\n",
    "plt.ylim([-200, 200])\n",
    "plt.xlim([-200, 200])\n",
    "plt.show()"
   ]
  },
  {
   "cell_type": "code",
   "execution_count": 25,
   "metadata": {},
   "outputs": [
    {
     "data": {
      "image/png": "[encoded data removed]",
      "text/plain": [
       "<Figure size 432x432 with 1 Axes>"
      ]
     },
     "metadata": {
      "needs_background": "light"
     },
     "output_type": "display_data"
    }
   ],
   "source": [
    "# 4 Выполним смещение объекта и масштабирование (применить 2 матрицы трансформаций). \n",
    "# Смещение на (200, 300) и масштабирование на (0.5, 1,2)\n",
    "\n",
    "x = A[:,0] + 200\n",
    "y = A[:,1] + 300\n",
    "\n",
    "xy = np.array([x,y]).transpose()\n",
    "B = np.array([\n",
    " [0.5, 0],\n",
    " [0, 1.2]\n",
    "])\n",
    "\n",
    "final = np.dot(xy, B)\n",
    "\n",
    "x = final[:,0]\n",
    "y = final[:,1]\n",
    "\n",
    "plt.figure(figsize = (6, 6))\n",
    "plt.plot(x, y)\n",
    "plt.ylim([-200, 500])\n",
    "plt.xlim([-200, 500])\n",
    "\n",
    "plt.show()"
   ]
  }
 ],
 "metadata": {
  "kernelspec": {
   "display_name": "Python 3",
   "language": "python",
   "name": "python3"
  },
  "language_info": {
   "codemirror_mode": {
    "name": "ipython",
    "version": 3
   },
   "file_extension": ".py",
   "mimetype": "text/x-python",
   "name": "python",
   "nbconvert_exporter": "python",
   "pygments_lexer": "ipython3",
   "version": "3.7.6"
  }
 },
 "nbformat": 4,
 "nbformat_minor": 4
}
