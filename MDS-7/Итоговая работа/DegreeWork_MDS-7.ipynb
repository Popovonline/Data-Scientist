{
 "cells": [
  {
   "cell_type": "markdown",
   "metadata": {},
   "source": [
    "### Итоговая работа по курсу \"Математика для Data Science\" потока mds-7"
   ]
  },
  {
   "cell_type": "code",
   "execution_count": 38,
   "metadata": {},
   "outputs": [],
   "source": [
    "import matplotlib.pyplot as plt\n",
    "import numpy as np\n",
    "from random import randint\n",
    "\n",
    "from scipy.optimize import minimize\n",
    "%matplotlib inline"
   ]
  },
  {
   "cell_type": "markdown",
   "metadata": {},
   "source": [
    "### Задание 1"
   ]
  },
  {
   "cell_type": "markdown",
   "metadata": {},
   "source": [
    "Дана матрица рейтингов фильмов (строки - пользователи (10 человек), столбцы - фильмы (15 фильмов))"
   ]
  },
  {
   "cell_type": "code",
   "execution_count": 4,
   "metadata": {},
   "outputs": [],
   "source": [
    "raitings = np.array([[ 4,  4,  9,  4,  1,  6, 10,  7,  9,  6,  9,  2,  8,  6,  6],\n",
    "                     [ 9,  2,  5, 10,  7,  8, 10,  5,  6,  2,  1,  6,  8,  9,  7],\n",
    "                     [ 1,  6,  8,  8,  4,  9,  3,  8, 10,  5,  2,  6,  8,  1,  6],\n",
    "                     [ 6,  1,  9,  7,  7,  9,  2,  3,  5,  1,  6,  6,  3,  2,  7],\n",
    "                     [ 3,  7,  3,  5,  7,  9,  9,  6,  2,  9,  1,  2,  8, 10,  6],\n",
    "                     [ 8,  3,  7,  3,  8,  6,  1,  8,  8,  6,  1,  9,  4, 10,  1],\n",
    "                     [ 9,  8,  4,  8,  8, 10,  6,  1,  1,  2,  9,  5,  2,  7,  2],\n",
    "                     [ 4,  1,  6,  4,  3, 10,  4,  4,  2,  8,  7,  9,  3,  8,  3],\n",
    "                     [ 2,  7,  7,  6, 10,  6,  8,  9,  8,  6, 10,  1,  7, 10,  4],\n",
    "                     [ 5, 10,  8,  8,  9,  7,  2,  9,  9, 10,  8,  8,  8,  6, 10]])"
   ]
  },
  {
   "cell_type": "markdown",
   "metadata": {},
   "source": [
    "<b> a) </b> Необходимо найти наиболее похожего пользователя по косинусной метрике для каждого из (ответ: 10 пар вида (x, y), где y - наиболее похожий пользователь на пользователя x)."
   ]
  },
  {
   "cell_type": "code",
   "execution_count": 5,
   "metadata": {},
   "outputs": [
    {
     "data": {
      "text/plain": [
       "array([[0.        , 0.17397081, 0.15078471, 0.21659884, 0.18082368,\n",
       "        0.25881452, 0.27264172, 0.19032478, 0.08934018, 0.13989224],\n",
       "       [0.17397081, 0.        , 0.18765675, 0.15364663, 0.12861948,\n",
       "        0.17286893, 0.17370316, 0.19973997, 0.17473692, 0.18031873],\n",
       "       [0.15078471, 0.18765675, 0.        , 0.15330626, 0.21605701,\n",
       "        0.20902015, 0.32383777, 0.23710448, 0.17887923, 0.08126949],\n",
       "       [0.21659884, 0.15364663, 0.15330626, 0.        , 0.30846591,\n",
       "        0.21334208, 0.16725789, 0.17065333, 0.2229334 , 0.1411313 ],\n",
       "       [0.18082368, 0.12861948, 0.21605701, 0.30846591, 0.        ,\n",
       "        0.2235566 , 0.21799532, 0.18763131, 0.12051523, 0.15425211],\n",
       "       [0.25881452, 0.17286893, 0.20902015, 0.21334208, 0.2235566 ,\n",
       "        0.        , 0.25988199, 0.15548315, 0.19377124, 0.14485092],\n",
       "       [0.27264172, 0.17370316, 0.32383777, 0.16725789, 0.21799532,\n",
       "        0.25988199, 0.        , 0.17330826, 0.18869956, 0.20845282],\n",
       "       [0.19032478, 0.19973997, 0.23710448, 0.17065333, 0.18763131,\n",
       "        0.15548315, 0.17330826, 0.        , 0.2018724 , 0.16317771],\n",
       "       [0.08934018, 0.17473692, 0.17887923, 0.2229334 , 0.12051523,\n",
       "        0.19377124, 0.18869956, 0.2018724 , 0.        , 0.09906203],\n",
       "       [0.13989224, 0.18031873, 0.08126949, 0.1411313 , 0.15425211,\n",
       "        0.14485092, 0.20845282, 0.16317771, 0.09906203, 0.        ]])"
      ]
     },
     "execution_count": 5,
     "metadata": {},
     "output_type": "execute_result"
    }
   ],
   "source": [
    "from sklearn.metrics import pairwise_distances\n",
    "dist = pairwise_distances(raitings, metric=\"cosine\")\n",
    "dist"
   ]
  },
  {
   "cell_type": "code",
   "execution_count": 7,
   "metadata": {},
   "outputs": [
    {
     "data": {
      "text/plain": [
       "[8, 4, 9, 9, 8, 9, 3, 5, 0, 2]"
      ]
     },
     "execution_count": 7,
     "metadata": {},
     "output_type": "execute_result"
    }
   ],
   "source": [
    "user_index = []\n",
    "for i in dist:\n",
    "    a = list(i).index(np.min(i[np.nonzero(i)]))\n",
    "    user_index.append(a)\n",
    "    \n",
    "user_index"
   ]
  },
  {
   "cell_type": "markdown",
   "metadata": {},
   "source": [
    "<b> b) </b>Предположим, вы захотели сжать признаковые описания пользователя с 15 фильмов, до, скажем, 5-ти признаков, как вы это сделаете?"
   ]
  },
  {
   "cell_type": "code",
   "execution_count": 8,
   "metadata": {},
   "outputs": [
    {
     "data": {
      "text/plain": [
       "array([[-5.30986101,  1.92919845, -4.93300027,  2.70188013,  5.50497886],\n",
       "       [ 2.87763403,  2.71659559,  1.40592782,  7.26325751, -4.50322291],\n",
       "       [-4.94010408, -6.68861167, -0.94550184,  3.61556661, -0.68969272],\n",
       "       [ 5.14939908, -6.28027284, -4.65978558,  1.09024004, -1.01471112],\n",
       "       [-1.37488691,  7.54357985,  4.00834369,  2.1284001 , -0.16324949],\n",
       "       [ 2.65341956, -3.77075601,  8.58430748, -1.46628319,  1.67401769],\n",
       "       [ 8.61573944,  3.78603335, -4.02721027, -4.37582577, -3.13880277],\n",
       "       [ 5.39658258, -1.0170466 ,  1.01456742, -1.89512837,  6.54883538],\n",
       "       [-5.7843488 ,  5.29857107, -1.48083611, -3.71295542,  0.21312695],\n",
       "       [-7.2835739 , -3.51729118,  1.03318766, -5.34915166, -4.43127987]])"
      ]
     },
     "execution_count": 8,
     "metadata": {},
     "output_type": "execute_result"
    }
   ],
   "source": [
    "# можно осуществить понижение размерности с помощью svd-разложения\n",
    "from sklearn.decomposition import PCA\n",
    "pca = PCA(n_components = 5)\n",
    "reduced = pca.fit_transform(raitings)\n",
    "\n",
    "reduced"
   ]
  },
  {
   "cell_type": "code",
   "execution_count": 9,
   "metadata": {},
   "outputs": [
    {
     "data": {
      "text/plain": [
       "array([[-14.42562294,   4.58656128,  -3.11511916,  -1.60103889,\n",
       "         -3.15319867],\n",
       "       [ -6.2381279 ,   5.37395842,   3.22380893,   2.96033849,\n",
       "        -13.16140044],\n",
       "       [-14.055866  ,  -4.03124884,   0.87237926,  -0.68735241,\n",
       "         -9.34787025],\n",
       "       [ -3.96636285,  -3.62291   ,  -2.84190447,  -3.21267898,\n",
       "         -9.67288865],\n",
       "       [-10.49064883,  10.20094268,   5.8262248 ,  -2.17451892,\n",
       "         -8.82142702],\n",
       "       [ -6.46234237,  -1.11339318,  10.40218859,  -5.76920221,\n",
       "         -6.98415983],\n",
       "       [ -0.50002249,   6.44339618,  -2.20932916,  -8.67874479,\n",
       "        -11.7969803 ],\n",
       "       [ -3.71917935,   1.64031623,   2.83244853,  -6.19804739,\n",
       "         -2.10934215],\n",
       "       [-14.90011072,   7.9559339 ,   0.33704499,  -8.01587444,\n",
       "         -8.44505058],\n",
       "       [-16.39933583,  -0.85992835,   2.85106876,  -9.65207068,\n",
       "        -13.0894574 ]])"
      ]
     },
     "execution_count": 9,
     "metadata": {},
     "output_type": "execute_result"
    }
   ],
   "source": [
    "# или так \n",
    "from sklearn.decomposition import PCA\n",
    "from sklearn.metrics import mean_squared_error\n",
    "\n",
    "X = raitings\n",
    "pca = PCA(n_components = 5)\n",
    "pca.fit(X)\n",
    "X_reduced = np.dot(X, pca.components_.T)\n",
    "X_original = np.dot(X_reduced, pca.components_)\n",
    "X_reduced"
   ]
  },
  {
   "cell_type": "code",
   "execution_count": 10,
   "metadata": {},
   "outputs": [
    {
     "data": {
      "text/plain": [
       "24.683375288903374"
      ]
     },
     "execution_count": 10,
     "metadata": {},
     "output_type": "execute_result"
    }
   ],
   "source": [
    "mean_squared_error(X, X_original)"
   ]
  },
  {
   "cell_type": "markdown",
   "metadata": {},
   "source": [
    "### Задание 2"
   ]
  },
  {
   "cell_type": "markdown",
   "metadata": {},
   "source": [
    "Вычислите производную $tg^2(sin(x) + cos(2x+3))$ в точке $x_0=1$ на python и на бумаге (просто подставить точку в производную и ничего не упрощать)."
   ]
  },
  {
   "cell_type": "code",
   "execution_count": 21,
   "metadata": {},
   "outputs": [],
   "source": [
    "import sympy\n",
    "from sympy import diff, symbols, cos, sin, tan, symbols, lambdify"
   ]
  },
  {
   "cell_type": "code",
   "execution_count": 22,
   "metadata": {},
   "outputs": [
    {
     "data": {
      "text/latex": [
       "$\\displaystyle 2 \\left(- 2 \\sin{\\left(2 x + 3 \\right)} + \\cos{\\left(x \\right)}\\right) \\left(\\tan^{2}{\\left(\\sin{\\left(x \\right)} + \\cos{\\left(2 x + 3 \\right)} \\right)} + 1\\right) \\tan{\\left(\\sin{\\left(x \\right)} + \\cos{\\left(2 x + 3 \\right)} \\right)}$"
      ],
      "text/plain": [
       "2*(-2*sin(2*x + 3) + cos(x))*(tan(sin(x) + cos(2*x + 3))**2 + 1)*tan(sin(x) + cos(2*x + 3))"
      ]
     },
     "execution_count": 22,
     "metadata": {},
     "output_type": "execute_result"
    }
   ],
   "source": [
    "x = symbols('x')      #x, y = symbols('x y')\n",
    "f_x = np.power(tan((sin(x)+cos(2*x+3))),2)\n",
    "dfdx = diff(f_x)\n",
    "dfdx"
   ]
  },
  {
   "cell_type": "code",
   "execution_count": 23,
   "metadata": {},
   "outputs": [
    {
     "data": {
      "text/plain": [
       "55.385917635337854"
      ]
     },
     "execution_count": 23,
     "metadata": {},
     "output_type": "execute_result"
    }
   ],
   "source": [
    "lambdify((x), dfdx) (1)"
   ]
  },
  {
   "cell_type": "markdown",
   "metadata": {},
   "source": [
    "Решение в LaTeX:"
   ]
  },
  {
   "cell_type": "markdown",
   "metadata": {},
   "source": [
    "Для вычисления нам понадобится правила [вычисления производной](https://planetcalc.ru/675/).  \n",
    "И [формулы тригонометрии](https://doza.pro/art/math/geometry/trig-formulas), чтобы привести один в один к полученному с помощью python выражению."
   ]
  },
  {
   "cell_type": "markdown",
   "metadata": {},
   "source": [
    "$f(x)=tan^2(sin(x)+cos(2x+3))$  \n",
    "\n",
    "$$f'(x)=2{\\cdot}tan(sin(x)+cos(2x+3)){\\cdot}(tan(sin(x)+cos(2x+3)))'$$   \n",
    "$$f'(x)=2{\\cdot}tan(sin(x)+cos(2x+3)){\\cdot}(tan(sin(x)+cos(2x+3)))'$$\n",
    "$$f'(x)=2{\\cdot}tan(sin(x)+cos(2x+3)){\\cdot}(1+tan^2(sin(x)+cos(2x+3))){\\cdot}(sin(x)+cos(2x+3))'$$  \n",
    "$$f'(x)=2{\\cdot}tan(sin(x)+cos(2x+3)){\\cdot}(1+tan^2(sin(x)+cos(2x+3))){\\cdot}(cos(x)-sin(2x+3){\\cdot}(2x+3)')$$\n",
    "\n",
    "Окончательно:  \n",
    "\n",
    "$$f'(x)=2{\\cdot}tan(sin(x)+cos(2x+3)){\\cdot}(1+tan^2(sin(x)+cos(2x+3))){\\cdot}(cos(x)-2{\\cdot}sin(2x+3))$$"
   ]
  },
  {
   "cell_type": "markdown",
   "metadata": {},
   "source": [
    "Можно ещё подставить единичку $x_0=1\\$.\n",
    "$$f'(1)=2{\\cdot}tan(sin(1)+cos(2{\\cdot}1+3)){\\cdot}(1+tan^2(sin(1)+cos(2{\\cdot}1+3))){\\cdot}(cos(1)-2{\\cdot}sin(2{\\cdot}1+3))$$"
   ]
  },
  {
   "cell_type": "markdown",
   "metadata": {},
   "source": [
    "### Задание 3"
   ]
  },
  {
   "cell_type": "markdown",
   "metadata": {},
   "source": [
    "Дана функция с неизвестными параметрами a и b, вам также известны значения функции fx в точках x. Найдите оптимальные параметры a, b, минимизирующие абсолютную ошибку <b>error</b>"
   ]
  },
  {
   "cell_type": "code",
   "execution_count": 25,
   "metadata": {},
   "outputs": [],
   "source": [
    "def f(x, a, b):\n",
    "    return np.e**a * np.sin(b*x) + x"
   ]
  },
  {
   "cell_type": "code",
   "execution_count": 26,
   "metadata": {},
   "outputs": [],
   "source": [
    "x = np.array([0.        , 0.26315789, 0.52631579, 0.78947368, 1.05263158,\n",
    "              1.31578947, 1.57894737, 1.84210526, 2.10526316, 2.36842105,\n",
    "              2.63157895, 2.89473684, 3.15789474, 3.42105263, 3.68421053,\n",
    "              3.94736842, 4.21052632, 4.47368421, 4.73684211, 5.        ])"
   ]
  },
  {
   "cell_type": "code",
   "execution_count": 27,
   "metadata": {},
   "outputs": [],
   "source": [
    "fx = np.array([  0.        , -12.01819092, -18.90968634, -17.68786571,\n",
    "                -8.7529108 ,   4.27524517,  16.06801336,  21.81250213,\n",
    "                19.22059845,   9.48411207,  -3.22273056, -13.48576488,\n",
    "               -16.91096359, -11.95866834,  -0.58630088,  12.56873816,\n",
    "                22.12489421,  24.20292139,  18.04522521,   6.33211092])"
   ]
  },
  {
   "cell_type": "code",
   "execution_count": 28,
   "metadata": {},
   "outputs": [
    {
     "data": {
      "image/png": "[encoded data removed]",
      "text/plain": [
       "<Figure size 432x288 with 1 Axes>"
      ]
     },
     "metadata": {
      "needs_background": "light"
     },
     "output_type": "display_data"
    }
   ],
   "source": [
    "plt.plot(x, fx)\n",
    "plt.show()"
   ]
  },
  {
   "cell_type": "code",
   "execution_count": 29,
   "metadata": {},
   "outputs": [],
   "source": [
    "def error(params):\n",
    "    return np.sum(np.abs(fx - f(x, params[0], params[1])))"
   ]
  },
  {
   "cell_type": "code",
   "execution_count": 31,
   "metadata": {},
   "outputs": [
    {
     "name": "stdout",
     "output_type": "stream",
     "text": [
      "     fun: 0.07203835682314086\n",
      "   maxcv: 0.0\n",
      " message: 'Optimization terminated successfully.'\n",
      "    nfev: 168\n",
      "  status: 1\n",
      " success: True\n",
      "       x: array([ 3.00000377, -2.4998895 ])\n"
     ]
    }
   ],
   "source": [
    "res = minimize(error, (-1,0), method='COBYLA')\n",
    "print(res)"
   ]
  },
  {
   "cell_type": "code",
   "execution_count": 32,
   "metadata": {},
   "outputs": [
    {
     "data": {
      "text/plain": [
       "0.07203815082295684"
      ]
     },
     "execution_count": 32,
     "metadata": {},
     "output_type": "execute_result"
    }
   ],
   "source": [
    "params = (3.00000377, -2.4998895)\n",
    "error(params)"
   ]
  },
  {
   "cell_type": "markdown",
   "metadata": {},
   "source": [
    "### Задание 4"
   ]
  },
  {
   "cell_type": "markdown",
   "metadata": {},
   "source": [
    "Создайте собственную дискретную случайную величину с 20 значениями. Сгенерируйте 1000 выборок размера 50. Посчитайте среднее для каждой выборки. Постройте гистограмму распределения средних."
   ]
  },
  {
   "cell_type": "code",
   "execution_count": 43,
   "metadata": {},
   "outputs": [],
   "source": [
    "# создадим дискретную случайную велечину рэндомно\n",
    "random_vars = np.random.random(20)\n",
    "# создадим рэндомно плотности вероятностей значений с.в.\n",
    "list_of_random_floats = np.random.random(20) \n",
    "probabilities = list_of_random_floats / list_of_random_floats.sum()"
   ]
  },
  {
   "cell_type": "code",
   "execution_count": 44,
   "metadata": {},
   "outputs": [
    {
     "data": {
      "text/plain": [
       "0.9999999999999998"
      ]
     },
     "execution_count": 44,
     "metadata": {},
     "output_type": "execute_result"
    }
   ],
   "source": [
    "sum(probabilities)"
   ]
  },
  {
   "cell_type": "code",
   "execution_count": 45,
   "metadata": {},
   "outputs": [
    {
     "data": {
      "image/png": "[encoded data removed]",
      "text/plain": [
       "<Figure size 432x288 with 1 Axes>"
      ]
     },
     "metadata": {
      "needs_background": "light"
     },
     "output_type": "display_data"
    }
   ],
   "source": [
    "plt.scatter(random_vars, probabilities)\n",
    "plt.show()"
   ]
  },
  {
   "cell_type": "code",
   "execution_count": 48,
   "metadata": {},
   "outputs": [],
   "source": [
    "# параметры запуска: размеры выборок и количество повторов генерации\n",
    "n1 = 50\n",
    "samples_count = 1000\n",
    "\n",
    "#массив для сохранения средних по выборкам\n",
    "a1 = np.array([])\n",
    "\n",
    "for number in range(samples_count):\n",
    "    # на каждом цикле генерируем выборки размера n1\n",
    "    sample = np.random.choice(random_vars, n1, p=probabilities)\n",
    "    # считаем среднее по каждой выборке и добавляем в массив средних\n",
    "    a1 = np.append(a1, sample.mean())"
   ]
  },
  {
   "cell_type": "code",
   "execution_count": 50,
   "metadata": {},
   "outputs": [
    {
     "data": {
      "image/png": "[encoded data removed]",
      "text/plain": [
       "<Figure size 432x288 with 1 Axes>"
      ]
     },
     "metadata": {
      "needs_background": "light"
     },
     "output_type": "display_data"
    }
   ],
   "source": [
    "#строим график\n",
    "label_1 = 'sample of ' + str(n1) + ' histogram'\n",
    "plt.hist(a1, density=True, label=label_1)\n",
    "\n",
    "plt.legend()\n",
    "plt.ylabel('samples means')\n",
    "plt.xlabel('$x$')\n",
    "plt.show()"
   ]
  },
  {
   "cell_type": "markdown",
   "metadata": {},
   "source": [
    "### Задание 5"
   ]
  },
  {
   "cell_type": "markdown",
   "metadata": {},
   "source": [
    "Найдите собственные значения и собственные вектора матрицы (на python и на бумаге)\n",
    "\n",
    "[[1, 4],\n",
    "\n",
    " [1, 1]]"
   ]
  },
  {
   "cell_type": "code",
   "execution_count": 4,
   "metadata": {},
   "outputs": [
    {
     "name": "stdout",
     "output_type": "stream",
     "text": [
      "[[1 4]\n",
      " [1 1]]\n"
     ]
    }
   ],
   "source": [
    "a = np.array([[1, 4],[1, 1]])\n",
    "print(a)"
   ]
  },
  {
   "cell_type": "code",
   "execution_count": 5,
   "metadata": {},
   "outputs": [
    {
     "name": "stdout",
     "output_type": "stream",
     "text": [
      "Собственное значение 3.0000000000000004\n",
      "соответствующий ему собственный вектор [0.89442719 0.4472136 ]\n",
      "Собственное значение -0.9999999999999996\n",
      "соответствующий ему собственный вектор [-0.89442719  0.4472136 ]\n"
     ]
    }
   ],
   "source": [
    "w, v = np.linalg.eig((a))\n",
    "for i in range(len(w)):\n",
    "    print(\"Собственное значение \" + str(w[i]))\n",
    "    print(\"соответствующий ему собственный вектор \" + str(v[:,i]))"
   ]
  },
  {
   "cell_type": "markdown",
   "metadata": {},
   "source": [
    "### Решение на бумажке:\n",
    "\n",
    "Дана матрица $a =\\begin{pmatrix}\n",
    "  1& 4\\\\\n",
    "  1& 1\n",
    "\\end{pmatrix}.$  \n",
    "\n",
    "Характеристическое уравнение имеет вид:  \n",
    "$\\begin{vmatrix}\n",
    "  1-w& 4\\\\\n",
    "  1& 1-w\n",
    "\\end{vmatrix}=0.$  \n",
    "\n",
    "\n",
    "Решение характеристического уравнения сводится к поиску корней квадратного уравнения вида:\n",
    "$w^2-2w-3=0.$  \n",
    "\n",
    "По теореме Виета:  \n",
    "\\begin{equation*}\n",
    " \\begin{cases}\n",
    "   w_1+w_2=2, \n",
    "   \\\\\n",
    "   w_1{\\cdot}w_2=-3.\n",
    " \\end{cases}\n",
    "\\end{equation*}\n",
    "\n",
    "Следовательно, видно, что наши собственные вектора принимают значения:  \n",
    "$w_1=3,$  \n",
    "$w_2=-1.$  \n",
    "\n",
    "Подставим поочерёдно полученные собственные значения в характеристическое уравнение и получим пару систем уравнений.\n",
    "\n",
    "Случай №1.  \n",
    "\n",
    "$w_1=3$  \n",
    "\n",
    "Тогда из характеристического уравнения получим:  \n",
    "\n",
    "$\\begin{equation*}\n",
    " \\begin{cases}\n",
    "   -2x+4y=0, \n",
    "   \\\\\n",
    "   x-2y=0.\n",
    " \\end{cases}\n",
    "\\end{equation*}$\n",
    "\n",
    "В результате получаем линейную зависимость $x=2y.$  \n",
    "\n",
    "Откуда собственный вектор (фактически, направление):\n",
    "\n",
    "$w_1=\\begin{pmatrix}\n",
    "  2\\\\\n",
    "  1\n",
    "\\end{pmatrix}.$\n",
    "\n",
    "Случай №2.  \n",
    "\n",
    "$w_2=-1$  \n",
    "\n",
    "Тогда из характеристического уравнения получим:  \n",
    "\n",
    "$\\begin{equation*}\n",
    " \\begin{cases}\n",
    "   2x+4y=0, \n",
    "   \\\\\n",
    "   x+2y=0.\n",
    " \\end{cases}\n",
    "\\end{equation*}$\n",
    "\n",
    "В результате получаем линейную зависимость $x=-2y.$  \n",
    "\n",
    "Откуда собственный вектор (фактически, направление):\n",
    "\n",
    "$w_2=\\begin{pmatrix}\n",
    "  -2\\\\\n",
    "  1\n",
    "\\end{pmatrix}.$\n"
   ]
  }
 ],
 "metadata": {
  "kernelspec": {
   "display_name": "Python 3",
   "language": "python",
   "name": "python3"
  },
  "language_info": {
   "codemirror_mode": {
    "name": "ipython",
    "version": 3
   },
   "file_extension": ".py",
   "mimetype": "text/x-python",
   "name": "python",
   "nbconvert_exporter": "python",
   "pygments_lexer": "ipython3",
   "version": "3.7.6"
  }
 },
 "nbformat": 4,
 "nbformat_minor": 2
}
