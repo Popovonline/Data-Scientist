{
 "cells": [
  {
   "cell_type": "markdown",
   "metadata": {},
   "source": [
    "Вы работаете секретарем и вам постоянно приходят различные документы. Вы должны быть очень внимательны, чтобы не потерять ни один документ. Каталог документов хранится в следующем виде:"
   ]
  },
  {
   "cell_type": "code",
   "execution_count": 2,
   "metadata": {},
   "outputs": [],
   "source": [
    "documents = [\n",
    "    {'type': 'passport', 'number': '2207 876234', 'name': 'Василий Гупкин'},\n",
    "    {'type': 'invoice', 'number': '11-2', 'name': 'Геннадий Покемонов'},\n",
    "    {'type': 'insurance', 'number': '10006', 'name': 'Аристарх Павлов'}\n",
    "]"
   ]
  },
  {
   "cell_type": "markdown",
   "metadata": {},
   "source": [
    "Перечень полок, на которых находятся документы хранится в следующем виде:"
   ]
  },
  {
   "cell_type": "code",
   "execution_count": 3,
   "metadata": {},
   "outputs": [],
   "source": [
    "directories = {\n",
    "    '1': ['2207 876234', '11-2'],\n",
    "    '2': ['10006'],\n",
    "    '3': []\n",
    "}  "
   ]
  },
  {
   "cell_type": "code",
   "execution_count": 4,
   "metadata": {},
   "outputs": [
    {
     "name": "stdout",
     "output_type": "stream",
     "text": [
      "{'1': ['2207 876234', '11-2'], '2': ['10006'], '3': []}\n",
      "[{'type': 'passport', 'number': '2207 876234', 'name': 'Василий Гупкин'}, {'type': 'invoice', 'number': '11-2', 'name': 'Геннадий Покемонов'}, {'type': 'insurance', 'number': '10006', 'name': 'Аристарх Павлов'}]\n"
     ]
    }
   ],
   "source": [
    "print(directories)\n",
    "print(documents)"
   ]
  },
  {
   "cell_type": "markdown",
   "metadata": {},
   "source": [
    "Необходимо реализовать пользовательские команды (внимание! это не название функций, которые должны быть выразительными, а команды, которые вводит пользователь, чтобы получить необходимый результат):\n",
    "  \n",
    "- p – people – команда, которая спросит номер документа и выведет имя человека, которому он принадлежит;  \n",
    "- s – shelf – команда, которая спросит номер документа и выведет номер полки, на которой он находится  \n",
    "Правильно обработайте ситуацию, когда пользователь будет вводить несуществующий документ.\n",
    "- l – list – команда, которая выведет список всех документов в формате   \n",
    "**passport \"2207 876234\" \"Василий Гупкин\"**  \n",
    "- as – add shelf – команда, которая спросит номер новой полки и добавит ее в перечень\n",
    "- d – delete – команда, которая спросит номер документа и удалит его из каталога и из перечня полок. Предусмотрите сценарий, когда пользователь вводит несуществующий документ;  \n",
    "- m – move – команда, которая спросит номер документа и целевую полку и переместит его с текущей полки на целевую. Корректно обработайте кейсы, когда пользователь пытается переместить несуществующий документ или переместить документ на несуществующую полку;  \n",
    "- a – add – команда, которая добавит новый документ в каталог и в перечень полок, спросив его номер, тип, имя владельца и номер полки, на котором он будет храниться."
   ]
  },
  {
   "cell_type": "code",
   "execution_count": 85,
   "metadata": {},
   "outputs": [],
   "source": [
    "def people_document():\n",
    "    number = input(\"Введите номер документа: \")\n",
    "    \n",
    "    for id in documents:\n",
    "        if id['number'] == number:\n",
    "            print(f\"Владелец документа: {id['name']}\")\n",
    "            break       \n",
    "    else:\n",
    "        print(\"Внимание! Такого документа НЕТ в архиве\")                  "
   ]
  },
  {
   "cell_type": "code",
   "execution_count": 96,
   "metadata": {},
   "outputs": [],
   "source": [
    "def list_documents():\n",
    "    for id in documents:\n",
    "        print('{} \"{}\" \"{}\"'.format(id['type'], id['number'], id['name']))\n",
    "    return"
   ]
  },
  {
   "cell_type": "code",
   "execution_count": 229,
   "metadata": {},
   "outputs": [],
   "source": [
    "def shelf_find():\n",
    "    doc_number = input(\"Введите номер документа: \")\n",
    "    \n",
    "    for key, values in directories.items():\n",
    "        if doc_number in values:\n",
    "            print(f\"Номер полки: {key}\")\n",
    "            break\n",
    "    else:\n",
    "        print(\"Внимание: Документа с таким номером не существует!\")"
   ]
  },
  {
   "cell_type": "code",
   "execution_count": 121,
   "metadata": {},
   "outputs": [],
   "source": [
    "def new_shelf(dirs):\n",
    "    new_number = input(\"Введите номер новой полки: \")\n",
    "    \n",
    "    if new_number in dirs:\n",
    "        print(\"Такая полка существует, повторите пожалуйста операцию\")\n",
    "        return\n",
    "    else:\n",
    "        dirs[new_number] = []\n",
    "        print(\"Новая полка успешно добавлена\")"
   ]
  },
  {
   "cell_type": "code",
   "execution_count": 249,
   "metadata": {},
   "outputs": [],
   "source": [
    "def delete(docs,dirs):\n",
    "    doc_number = input(\"Введите номер документа: \")\n",
    "    \n",
    "    for values in directories.values():\n",
    "        if doc_number in values:\n",
    "            values.remove(doc_number)\n",
    "    for i in documents:\n",
    "        if i['number'] == doc_number:\n",
    "            documents.remove(i)\n",
    "            print(\"Операция по удалению выполнена успешно!\")\n",
    "            break\n",
    "    else:\n",
    "        print(\"Документа с таким номером не существует\")"
   ]
  },
  {
   "cell_type": "code",
   "execution_count": 302,
   "metadata": {},
   "outputs": [],
   "source": [
    "def move_doc():\n",
    "    doc = input(\"Введите номер документа: \")\n",
    "    shelf = input(\"Введите целевую полку: \")\n",
    "    \n",
    "    for values in directories.values():\n",
    "        if doc in values:\n",
    "            values.remove(doc)\n",
    "    for key, values in directories.items():\n",
    "        if shelf == key:\n",
    "            values.append(doc)\n",
    "            print(\"Операция выполнена успешно!\")\n",
    "            break\n",
    "    else:\n",
    "        print(\"Данные введены некорректно, не существует данного документа и/или полки\")"
   ]
  },
  {
   "cell_type": "code",
   "execution_count": 342,
   "metadata": {},
   "outputs": [],
   "source": [
    "def new_data(docs,dirs):\n",
    "    new_type = input(\"Введите тип документа: \")\n",
    "    new_number = input(\"Введите номер документа: \")\n",
    "    new_person = input(\"Введите владельца документа: \")\n",
    "    new_shelf = input(\"Введите номер полки: \")\n",
    "    \n",
    "    doc_el = {}\n",
    "    doc_el['type'] =  new_type\n",
    "    doc_el['number'] = new_number\n",
    "    doc_el['name'] = new_person\n",
    "    docs.append(doc_el)\n",
    "    \n",
    "    dirs[new_shelf] = [new_number]\n",
    "    \n",
    "    print('Документ создан успешно')"
   ]
  },
  {
   "cell_type": "code",
   "execution_count": 365,
   "metadata": {},
   "outputs": [],
   "source": [
    "def main_menu():\n",
    "    while True:\n",
    "        command = input(\"\\n \\\n",
    "    Выберете одну из команд: p, l, s, a, d, m, as, \\n \\\n",
    "    Для выхода наберите: exit или q \\n \\\n",
    "    Для вызова справки наберите: help или ? \\n \\\n",
    "    Введите команду: \")\n",
    "        if command == 'p':\n",
    "            people_document()\n",
    "        elif command == 'l':\n",
    "            list_documents()\n",
    "        elif command == 's':\n",
    "            shelf_find()\n",
    "        elif command == 'as':\n",
    "            new_shelf(directories)\n",
    "        elif command == 'd':\n",
    "            delete(documents,directories)\n",
    "        elif command == 'm':\n",
    "            move_doc()    \n",
    "        elif command == 'a':\n",
    "            new_data(documents,directories)\n",
    "        elif command == 'help' or command == '?':\n",
    "            print(\"p – people – команда, которая спросит номер документа и выведет имя человека, которому он принадлежит\")\n",
    "            print(\"s – shelf – команда, которая спросит номер документа и выведет номер полки, на которой он находится\")\n",
    "            print('l – list – команда, которая выведет список всех документов в формате passport \"2207 876234\" \"Василий Гупкин\"')\n",
    "            print(\"as –add shelf – команда, которая спросит номер новой полки и добавит ее в перечень.\")\n",
    "            print(\"d – delete – команда, которая спросит номер документа и удалит его из каталога и из перечня полок.\")\n",
    "            print(\"m – move – команда, которая спросит номер документа и целевую полку и переместит его с текущей полки на целевую.\")\n",
    "            print(\"a – add – команда, которая добавит новый документ в каталог и в перечень полок, спросив его номер, тип, имя владельца и номер полки, на котором он будет храниться.\")\n",
    "        elif command == 'exit' or command == 'q':\n",
    "            break\n",
    "        else:\n",
    "            print(\"Вы ввели команду не корректно, повторите ввод!\") "
   ]
  },
  {
   "cell_type": "code",
   "execution_count": null,
   "metadata": {},
   "outputs": [],
   "source": [
    "main_menu()"
   ]
  }
 ],
 "metadata": {
  "kernelspec": {
   "display_name": "Python 3",
   "language": "python",
   "name": "python3"
  }
 },
 "nbformat": 4,
 "nbformat_minor": 2
}
