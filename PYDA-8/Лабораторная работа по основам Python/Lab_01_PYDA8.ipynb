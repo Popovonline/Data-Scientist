{
 "cells": [
  {
   "cell_type": "markdown",
   "metadata": {},
   "source": [
    "# Задание 1\n",
    "1. Посчитайте, сколько в строке символов (исключая пробелы).\n",
    "2. Посчитайте, сколько в строке слов.\n",
    "3. Напишите функцию, которая будет принимать в качестве аргумента букву и выводить все слова из строки, заканчивающиеся на эту букву (например, “s”).\n",
    "4. Не обязательно: Напишите функцию, которая будет принимать в качестве аргумента букву и выводить все слова из строки, начинающиеся на эту букву (например, “m”)."
   ]
  },
  {
   "cell_type": "code",
   "execution_count": 14,
   "metadata": {},
   "outputs": [],
   "source": [
    "string_01 = \"Mama, just killed a man, put a gun against his head, pulled my trigger, now he's dead. Mama, \" \\\n",
    "            \"life had just begun, but now I've gone and thrown it all away. Mama, ooh (any way the wind blows), \" \\\n",
    "            \"didn't mean to make you cry. If I'm not back again this time tomorrow carry on, carry on as if nothing \" \\\n",
    "            \"really matters.\""
   ]
  },
  {
   "cell_type": "code",
   "execution_count": 39,
   "metadata": {},
   "outputs": [
    {
     "name": "stdout",
     "output_type": "stream",
     "text": [
      "В строке 250 символов\n",
      "250\n",
      "В строке 61 слов\n",
      "Искомое слово:his\n",
      "Искомое слово:hes\n",
      "Искомое слово:blows\n",
      "Искомое слово:this\n",
      "Искомое слово:as\n",
      "Искомое слово:matters\n",
      "Искомое слово:man\n",
      "Искомое слово:my\n",
      "Искомое слово:mean\n",
      "Искомое слово:make\n",
      "Искомое слово:matters\n"
     ]
    }
   ],
   "source": [
    "# 1-1\n",
    "letters = len(string_01.replace(' ',''))\n",
    "print(f'В строке {letters} символов')\n",
    "\n",
    "# 1-2\n",
    "print(len(string_01) - string_01.count(' '))\n",
    "\n",
    "#2\n",
    "words = len(string_01.split(' '))\n",
    "print(f'В строке {words} слов')\n",
    "\n",
    "# 3\n",
    "import re\n",
    "def find_words_1(letter):\n",
    "    string_02 = re.sub(r'[^\\w\\s]', '', string_01)\n",
    "    string_to_list = string_02.split(' ')\n",
    "    for item in string_to_list:\n",
    "        if item.endswith(letter):\n",
    "            print(f'Искомое слово:{item}')\n",
    "find_words_1('s')\n",
    "\n",
    "# 4\n",
    "def find_words_2(letter):\n",
    "    string_02 = re.sub(r'[^\\w\\s]', '', string_01)\n",
    "    string_to_list = string_02.split(' ')\n",
    "    for item in string_to_list:\n",
    "        if item.startswith(letter):\n",
    "            print(f'Искомое слово:{item}')\n",
    "find_words_2('m')"
   ]
  },
  {
   "cell_type": "markdown",
   "metadata": {},
   "source": [
    "# Задание 2\n",
    "Напишите код, который будет генерировать случайную последовательность из 6 цифр, одна из которых должна быть 3. Позиция цифры 3 должна определяться случайным образом. Результат должен быть строкой. Например: \"456309\" или \"330127\"."
   ]
  },
  {
   "cell_type": "code",
   "execution_count": 43,
   "metadata": {},
   "outputs": [
    {
     "name": "stdout",
     "output_type": "stream",
     "text": [
      "113038\n"
     ]
    }
   ],
   "source": [
    "import random\n",
    "number = ''\n",
    "while '3' not in number:\n",
    "    number = ''.join(str(random.randint(0,9)) for i in range(6))\n",
    "print(number)"
   ]
  },
  {
   "cell_type": "markdown",
   "metadata": {},
   "source": [
    "# Задание 3\n",
    "Напишите алгоритм, который выводит сумму элементов списка, которые больше 10, но меньше 100."
   ]
  },
  {
   "cell_type": "code",
   "execution_count": 179,
   "metadata": {},
   "outputs": [],
   "source": [
    "list_01 = [1, 1, 2, 3, 5, 8, 13, 21, 34, 55, 89, 144, 233, 377, 610]"
   ]
  },
  {
   "cell_type": "code",
   "execution_count": 187,
   "metadata": {},
   "outputs": [
    {
     "name": "stdout",
     "output_type": "stream",
     "text": [
      "212\n"
     ]
    }
   ],
   "source": [
    "sum_ = 0\n",
    "list_ = [x for x in list_01 if x >= 10 and x <= 100]\n",
    "for i in list_:\n",
    "    sum_ += int(i)\n",
    "print(sum_)"
   ]
  },
  {
   "cell_type": "markdown",
   "metadata": {},
   "source": [
    "# Задание 4"
   ]
  },
  {
   "cell_type": "code",
   "execution_count": 203,
   "metadata": {},
   "outputs": [],
   "source": [
    "students = [\n",
    "    [\"0001\", \"Антонов\", \"Антон\", \"Игоревич\", \"20.08.2009\", \"БСТ161\"],\n",
    "    [\"1102\", \"Богов\", \"Артем\", \"Игоревич\", \"25.01.2010\", \"БСТ162\"],\n",
    "    [\"0333\", \"Глаголева\", \"Анастасия\", \"Николаевна\", \"11.07.2009\", \"БСТ163\"],\n",
    "    [\"4004\", \"Степанова\", \"Наталья\", \"Александровна\", \"13.02.2008\", \"БСТ161\"],\n",
    "    [\"0045\", \"Боков\", \"Игорь\", \"Харитонович\", \"02.06.2009\", \"БСТ161\"],\n",
    "    [\"0096\", \"Васильков\", \"Валентин\", \"Сергеевич\", \"20.03.2009\", \"БСТ164\"],\n",
    "    [\"0607\", \"Сиропова\", \"Виолетта\", \"Эдуардовна\", \"28.05.2010\", \"БСТ162\"],\n",
    "    [\"0309\", \"Шафутинский\", \"Михаил\", \"Михайлович\", \"03.09.2007\", \"БСТ163\"]\n",
    "            ]"
   ]
  },
  {
   "cell_type": "markdown",
   "metadata": {},
   "source": [
    "Преобразуйте данные таким образом, чтобы они были представлены в виде словаря, в котором ключами являются номера студентов, а значениями — список из других данных о студентах."
   ]
  },
  {
   "cell_type": "code",
   "execution_count": 287,
   "metadata": {},
   "outputs": [],
   "source": [
    "dict_ = {}\n",
    "for x in students:\n",
    "    dict_.setdefault(x[0],x[1:6])"
   ]
  },
  {
   "cell_type": "code",
   "execution_count": 288,
   "metadata": {},
   "outputs": [
    {
     "data": {
      "text/plain": [
       "{'0001': ['Антонов', 'Антон', 'Игоревич', '20.08.2009', 'БСТ161'],\n",
       " '1102': ['Богов', 'Артем', 'Игоревич', '25.01.2010', 'БСТ162'],\n",
       " '0333': ['Глаголева', 'Анастасия', 'Николаевна', '11.07.2009', 'БСТ163'],\n",
       " '4004': ['Степанова', 'Наталья', 'Александровна', '13.02.2008', 'БСТ161'],\n",
       " '0045': ['Боков', 'Игорь', 'Харитонович', '02.06.2009', 'БСТ161'],\n",
       " '0096': ['Васильков', 'Валентин', 'Сергеевич', '20.03.2009', 'БСТ164'],\n",
       " '0607': ['Сиропова', 'Виолетта', 'Эдуардовна', '28.05.2010', 'БСТ162'],\n",
       " '0309': ['Шафутинский', 'Михаил', 'Михайлович', '03.09.2007', 'БСТ163']}"
      ]
     },
     "execution_count": 288,
     "metadata": {},
     "output_type": "execute_result"
    }
   ],
   "source": [
    "dict_"
   ]
  },
  {
   "cell_type": "markdown",
   "metadata": {},
   "source": [
    "Напишите функцию, которая принимает в качестве аргумента номер студента и новый номер группы и позволяет изменить номер группы этого студента на новый."
   ]
  },
  {
   "cell_type": "code",
   "execution_count": 243,
   "metadata": {},
   "outputs": [],
   "source": [
    "def new_group():\n",
    "    id_student = input('Введите номер студента - ')\n",
    "    id_group = input('Введите новый номер группы - ')\n",
    "    for key,values in dict_.items():\n",
    "        if key == id_student:\n",
    "            values[4] = id_group\n",
    "        else:\n",
    "            print('Студента с таким номером не сущетсвует')\n",
    "            return dict_\n"
   ]
  },
  {
   "cell_type": "code",
   "execution_count": 244,
   "metadata": {},
   "outputs": [
    {
     "name": "stdout",
     "output_type": "stream",
     "text": [
      "Введите номер студента - 0001\n",
      "Введите новый номер группы - БСТ777\n",
      "Студента с таким номером не сущетсвует\n"
     ]
    },
    {
     "data": {
      "text/plain": [
       "{'0001': ['Антонов', 'Антон', 'Игоревич', '20.08.2009', 'БСТ777'],\n",
       " '1102': ['Богов', 'Артем', 'Игоревич', '25.01.2010', 'БСТ162'],\n",
       " '0333': ['Глаголева', 'Анастасия', 'Николаевна', '11.07.2009', 'БСТ163'],\n",
       " '4004': ['Степанова', 'Наталья', 'Александровна', '13.02.2008', 'БСТ161'],\n",
       " '0045': ['Боков', 'Игорь', 'Харитонович', '02.06.2009', 'БСТ161'],\n",
       " '0096': ['Васильков', 'Валентин', 'Сергеевич', '20.03.2009', 'БСТ164'],\n",
       " '0607': ['Сиропова', 'Виолетта', 'Эдуардовна', '28.05.2010', 'БСТ162'],\n",
       " '0309': ['Шафутинский', 'Михаил', 'Михайлович', '03.09.2007', 'БСТ163']}"
      ]
     },
     "execution_count": 244,
     "metadata": {},
     "output_type": "execute_result"
    }
   ],
   "source": [
    "new_group()"
   ]
  },
  {
   "cell_type": "markdown",
   "metadata": {},
   "source": [
    "Напишите функцию, которая принимает номер группы и выводит список (фамилии, имена, отчества) всех студентов этой группы."
   ]
  },
  {
   "cell_type": "code",
   "execution_count": 11,
   "metadata": {},
   "outputs": [],
   "source": [
    "def fio():\n",
    "    id_group = input('Введите номер группы - ')\n",
    "    for value in dict_.values():\n",
    "        if value[4] == id_group:\n",
    "            print(value[:3])\n",
    "    return "
   ]
  },
  {
   "cell_type": "code",
   "execution_count": 284,
   "metadata": {},
   "outputs": [
    {
     "name": "stdout",
     "output_type": "stream",
     "text": [
      "номер группы - БСТ163\n",
      "['Глаголева', 'Анастасия', 'Николаевна']\n",
      "['Шафутинский', 'Михаил', 'Михайлович']\n"
     ]
    }
   ],
   "source": [
    "fio()"
   ]
  },
  {
   "cell_type": "markdown",
   "metadata": {},
   "source": [
    "# Задание 5"
   ]
  },
  {
   "cell_type": "code",
   "execution_count": 2,
   "metadata": {},
   "outputs": [],
   "source": [
    "matrix = [\n",
    "    [0, 1, 2, 4, 8],\n",
    "    [6, 2, 2, 1, 9],\n",
    "    [3, 3, 3, 3, 3],\n",
    "    [4, 6, 7, 1, 2],\n",
    "    [5, 7, 3, 4, 0]\n",
    "        ]"
   ]
  },
  {
   "cell_type": "markdown",
   "metadata": {},
   "source": [
    "Выведите результат сложения всех элементов матрицы."
   ]
  },
  {
   "cell_type": "code",
   "execution_count": 264,
   "metadata": {},
   "outputs": [],
   "source": [
    "def sum_():\n",
    "    total = 0\n",
    "    for i in matrix:\n",
    "        for x in i:\n",
    "            total += int(x)\n",
    "    return total"
   ]
  },
  {
   "cell_type": "code",
   "execution_count": 266,
   "metadata": {},
   "outputs": [
    {
     "data": {
      "text/plain": [
       "89"
      ]
     },
     "execution_count": 266,
     "metadata": {},
     "output_type": "execute_result"
    }
   ],
   "source": [
    "sum_()"
   ]
  },
  {
   "cell_type": "markdown",
   "metadata": {},
   "source": [
    "Напишите алгоритм вычисления максимума из сумм элементов каждого столбца."
   ]
  },
  {
   "cell_type": "code",
   "execution_count": 328,
   "metadata": {},
   "outputs": [],
   "source": [
    "max_item = max([int(i) for item in matrix for i in item]) "
   ]
  },
  {
   "cell_type": "code",
   "execution_count": 10,
   "metadata": {},
   "outputs": [
    {
     "data": {
      "text/plain": [
       "20"
      ]
     },
     "execution_count": 10,
     "metadata": {},
     "output_type": "execute_result"
    }
   ],
   "source": [
    "new_matrix = []\n",
    "for item in matrix:\n",
    "    new_matrix.append(sum(item))\n",
    "max(new_matrix)"
   ]
  }
 ],
 "metadata": {
  "kernelspec": {
   "display_name": "Python 3",
   "language": "python",
   "name": "python3"
  },
  "language_info": {
   "codemirror_mode": {
    "name": "ipython",
    "version": 3
   },
   "file_extension": ".py",
   "mimetype": "text/x-python",
   "name": "python",
   "nbconvert_exporter": "python",
   "pygments_lexer": "ipython3",
   "version": "3.7.4"
  }
 },
 "nbformat": 4,
 "nbformat_minor": 4
}
