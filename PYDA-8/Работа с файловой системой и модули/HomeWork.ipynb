{
 "cells": [
  {
   "cell_type": "markdown",
   "metadata": {},
   "source": [
    "# Домашнее задание\n",
    "1. Переведите содержимое файла purchase_log.txt в словарь purchases вида:\n",
    "```python\n",
    "{'1840e0b9d4': 'Продукты', ...}\n",
    "```\n",
    "\n",
    "2. Для каждого user_id в файле visit_log.csv добавьте третий столбец с категорией покупки (если покупка была).\n",
    "\n",
    "3. Запишите в файл funnel.csv визиты из файла visit_log.csv, в которых были покупки с указанием категории.\n",
    "\n",
    "Учтите условия на данные:\n",
    "- содержимое purchase_log.txt помещается в оперативную память компьютера\n",
    "- содержимое visit_log.csv - нет; используйте только построчную обработку этого файла"
   ]
  },
  {
   "cell_type": "code",
   "execution_count": 2,
   "metadata": {},
   "outputs": [],
   "source": [
    "import json\n",
    "p = open('purchase_log.txt', 'r', encoding = \"utf-8\")\n",
    "purchases = []\n",
    "for line in p:\n",
    "        row = line.strip()\n",
    "        my_dict = json.loads(row)\n",
    "        purchases.append(my_dict)"
   ]
  },
  {
   "cell_type": "code",
   "execution_count": 3,
   "metadata": {},
   "outputs": [],
   "source": [
    "main_purchases = {}\n",
    "for element in purchases:\n",
    "    if element['user_id'] not in main_purchases:\n",
    "        main_purchases[element['user_id']] = [element['category']]\n",
    "    else:\n",
    "        main_purchases[element['user_id']].append(element['category'])"
   ]
  },
  {
   "cell_type": "code",
   "execution_count": 21,
   "metadata": {},
   "outputs": [],
   "source": [
    "with open('visit_log.csv', 'r') as v:\n",
    "    with open('funnel.csv', 'w') as f:\n",
    "        for element in v:\n",
    "            item = element.strip().split(',')\n",
    "            if main_purchases.get(item[0]) != None:\n",
    "                pcategory=';'.join(main_purchases[item[0]])\n",
    "                item.append(pcategory)\n",
    "                result=','.join(item)+'\\n'\n",
    "                f.write(result)"
   ]
  }
 ],
 "metadata": {
  "kernelspec": {
   "display_name": "Python 3",
   "language": "python",
   "name": "python3"
  },
  "language_info": {
   "codemirror_mode": {
    "name": "ipython",
    "version": 3
   },
   "file_extension": ".py",
   "mimetype": "text/x-python",
   "name": "python",
   "nbconvert_exporter": "python",
   "pygments_lexer": "ipython3",
   "version": "3.7.4"
  }
 },
 "nbformat": 4,
 "nbformat_minor": 2
}
